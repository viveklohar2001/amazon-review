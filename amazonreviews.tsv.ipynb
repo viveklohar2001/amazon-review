{
 "cells": [
  {
   "cell_type": "markdown",
   "id": "8c4c1411",
   "metadata": {},
   "source": [
    "# Natural Language Processing (NLP)"
   ]
  },
  {
   "cell_type": "raw",
   "id": "31fb1c49",
   "metadata": {},
   "source": [
    "Natural language processing (NLP) refers to the branch of computer science—and more specifically, the branch of artificial intelligence or AI—concerned with giving computers the ability to understand text and spoken words in much the same way human beings can."
   ]
  },
  {
   "cell_type": "code",
   "execution_count": null,
   "id": "7cb8a6af",
   "metadata": {},
   "outputs": [],
   "source": []
  },
  {
   "cell_type": "markdown",
   "id": "ccb6332b",
   "metadata": {},
   "source": [
    "# NLP model with ML on amazonreviews dataset"
   ]
  },
  {
   "cell_type": "code",
   "execution_count": 2,
   "id": "b657475e",
   "metadata": {},
   "outputs": [],
   "source": [
    "import pandas as pd\n",
    "import numpy as np\n",
    "import matplotlib.pyplot as plt\n",
    "import seaborn as sns \n",
    "import math \n",
    "import warnings\n",
    "warnings.filterwarnings('ignore')"
   ]
  },
  {
   "cell_type": "code",
   "execution_count": 2,
   "id": "ae40b82c",
   "metadata": {},
   "outputs": [],
   "source": [
    "amazon= pd.read_csv(r\"D:\\Python\\Python data set lec\\NLP\\amazonreviews.tsv\" , sep='\\t')     "
   ]
  },
  {
   "cell_type": "code",
   "execution_count": 3,
   "id": "4e1a363a",
   "metadata": {
    "scrolled": true
   },
   "outputs": [
    {
     "data": {
      "text/html": [
       "<div>\n",
       "<style scoped>\n",
       "    .dataframe tbody tr th:only-of-type {\n",
       "        vertical-align: middle;\n",
       "    }\n",
       "\n",
       "    .dataframe tbody tr th {\n",
       "        vertical-align: top;\n",
       "    }\n",
       "\n",
       "    .dataframe thead th {\n",
       "        text-align: right;\n",
       "    }\n",
       "</style>\n",
       "<table border=\"1\" class=\"dataframe\">\n",
       "  <thead>\n",
       "    <tr style=\"text-align: right;\">\n",
       "      <th></th>\n",
       "      <th>label</th>\n",
       "      <th>review</th>\n",
       "    </tr>\n",
       "  </thead>\n",
       "  <tbody>\n",
       "    <tr>\n",
       "      <th>0</th>\n",
       "      <td>pos</td>\n",
       "      <td>Stuning even for the non-gamer: This sound tra...</td>\n",
       "    </tr>\n",
       "    <tr>\n",
       "      <th>1</th>\n",
       "      <td>pos</td>\n",
       "      <td>The best soundtrack ever to anything.: I'm rea...</td>\n",
       "    </tr>\n",
       "    <tr>\n",
       "      <th>2</th>\n",
       "      <td>pos</td>\n",
       "      <td>Amazing!: This soundtrack is my favorite music...</td>\n",
       "    </tr>\n",
       "    <tr>\n",
       "      <th>3</th>\n",
       "      <td>pos</td>\n",
       "      <td>Excellent Soundtrack: I truly like this soundt...</td>\n",
       "    </tr>\n",
       "    <tr>\n",
       "      <th>4</th>\n",
       "      <td>pos</td>\n",
       "      <td>Remember, Pull Your Jaw Off The Floor After He...</td>\n",
       "    </tr>\n",
       "  </tbody>\n",
       "</table>\n",
       "</div>"
      ],
      "text/plain": [
       "  label                                             review\n",
       "0   pos  Stuning even for the non-gamer: This sound tra...\n",
       "1   pos  The best soundtrack ever to anything.: I'm rea...\n",
       "2   pos  Amazing!: This soundtrack is my favorite music...\n",
       "3   pos  Excellent Soundtrack: I truly like this soundt...\n",
       "4   pos  Remember, Pull Your Jaw Off The Floor After He..."
      ]
     },
     "execution_count": 3,
     "metadata": {},
     "output_type": "execute_result"
    }
   ],
   "source": [
    "amazon.head()"
   ]
  },
  {
   "cell_type": "code",
   "execution_count": 4,
   "id": "f270d7b4",
   "metadata": {},
   "outputs": [
    {
     "data": {
      "text/plain": [
       "(10000, 2)"
      ]
     },
     "execution_count": 4,
     "metadata": {},
     "output_type": "execute_result"
    }
   ],
   "source": [
    "amazon.shape"
   ]
  },
  {
   "cell_type": "markdown",
   "id": "6f93b9f6",
   "metadata": {},
   "source": [
    "# To check the null values"
   ]
  },
  {
   "cell_type": "code",
   "execution_count": 5,
   "id": "6cfcc9af",
   "metadata": {},
   "outputs": [
    {
     "data": {
      "text/plain": [
       "label     0\n",
       "review    0\n",
       "dtype: int64"
      ]
     },
     "execution_count": 5,
     "metadata": {},
     "output_type": "execute_result"
    }
   ],
   "source": [
    "amazon.isnull().sum()"
   ]
  },
  {
   "cell_type": "markdown",
   "id": "21a37d91",
   "metadata": {},
   "source": [
    "# Convert target variable into numeric "
   ]
  },
  {
   "cell_type": "code",
   "execution_count": 6,
   "id": "6cde9653",
   "metadata": {},
   "outputs": [
    {
     "data": {
      "text/plain": [
       "neg    5097\n",
       "pos    4903\n",
       "Name: label, dtype: int64"
      ]
     },
     "execution_count": 6,
     "metadata": {},
     "output_type": "execute_result"
    }
   ],
   "source": [
    "amazon.label.value_counts()"
   ]
  },
  {
   "cell_type": "code",
   "execution_count": 7,
   "id": "652c55d3",
   "metadata": {},
   "outputs": [],
   "source": [
    "amazon.label.replace({'neg' : 0 , 'pos' : 1} , inplace=True)"
   ]
  },
  {
   "cell_type": "code",
   "execution_count": 8,
   "id": "4bcfc090",
   "metadata": {},
   "outputs": [
    {
     "data": {
      "text/plain": [
       "0    5097\n",
       "1    4903\n",
       "Name: label, dtype: int64"
      ]
     },
     "execution_count": 8,
     "metadata": {},
     "output_type": "execute_result"
    }
   ],
   "source": [
    "amazon.label.value_counts()"
   ]
  },
  {
   "cell_type": "markdown",
   "id": "169ecf59",
   "metadata": {},
   "source": [
    "# Process the Data"
   ]
  },
  {
   "cell_type": "raw",
   "id": "0dbea828",
   "metadata": {},
   "source": [
    "After analyzing the dataset, the next step is to preprocess the dataset into the right format before creating our machine learning model.\n",
    "\n",
    "The reviews in this dataset contain a lot of unnecessary words and characters that we don't need when creating a machine learning model , also their is some upper & lower case string which we have to convert it into either lower case or upper case.\n",
    "\n",
    "We will clean the messages by removing stopwords, numbers, and punctuation. Then we will convert each word into its base form."
   ]
  },
  {
   "cell_type": "markdown",
   "id": "411aa9fc",
   "metadata": {},
   "source": [
    "# Convert all upper string case into lower string case "
   ]
  },
  {
   "cell_type": "code",
   "execution_count": 9,
   "id": "a468d747",
   "metadata": {},
   "outputs": [],
   "source": [
    "amazon.review = amazon.review.str.lower()   "
   ]
  },
  {
   "cell_type": "code",
   "execution_count": 10,
   "id": "d47c3374",
   "metadata": {
    "scrolled": true
   },
   "outputs": [
    {
     "data": {
      "text/html": [
       "<div>\n",
       "<style scoped>\n",
       "    .dataframe tbody tr th:only-of-type {\n",
       "        vertical-align: middle;\n",
       "    }\n",
       "\n",
       "    .dataframe tbody tr th {\n",
       "        vertical-align: top;\n",
       "    }\n",
       "\n",
       "    .dataframe thead th {\n",
       "        text-align: right;\n",
       "    }\n",
       "</style>\n",
       "<table border=\"1\" class=\"dataframe\">\n",
       "  <thead>\n",
       "    <tr style=\"text-align: right;\">\n",
       "      <th></th>\n",
       "      <th>label</th>\n",
       "      <th>review</th>\n",
       "    </tr>\n",
       "  </thead>\n",
       "  <tbody>\n",
       "    <tr>\n",
       "      <th>0</th>\n",
       "      <td>1</td>\n",
       "      <td>stuning even for the non-gamer: this sound tra...</td>\n",
       "    </tr>\n",
       "    <tr>\n",
       "      <th>1</th>\n",
       "      <td>1</td>\n",
       "      <td>the best soundtrack ever to anything.: i'm rea...</td>\n",
       "    </tr>\n",
       "    <tr>\n",
       "      <th>2</th>\n",
       "      <td>1</td>\n",
       "      <td>amazing!: this soundtrack is my favorite music...</td>\n",
       "    </tr>\n",
       "    <tr>\n",
       "      <th>3</th>\n",
       "      <td>1</td>\n",
       "      <td>excellent soundtrack: i truly like this soundt...</td>\n",
       "    </tr>\n",
       "    <tr>\n",
       "      <th>4</th>\n",
       "      <td>1</td>\n",
       "      <td>remember, pull your jaw off the floor after he...</td>\n",
       "    </tr>\n",
       "  </tbody>\n",
       "</table>\n",
       "</div>"
      ],
      "text/plain": [
       "   label                                             review\n",
       "0      1  stuning even for the non-gamer: this sound tra...\n",
       "1      1  the best soundtrack ever to anything.: i'm rea...\n",
       "2      1  amazing!: this soundtrack is my favorite music...\n",
       "3      1  excellent soundtrack: i truly like this soundt...\n",
       "4      1  remember, pull your jaw off the floor after he..."
      ]
     },
     "execution_count": 10,
     "metadata": {},
     "output_type": "execute_result"
    }
   ],
   "source": [
    "amazon.head()"
   ]
  },
  {
   "cell_type": "markdown",
   "id": "9896dda3",
   "metadata": {},
   "source": [
    "# Remove the stopwords & punctuation marks by using user-defined function"
   ]
  },
  {
   "cell_type": "code",
   "execution_count": 11,
   "id": "dc140025",
   "metadata": {},
   "outputs": [],
   "source": [
    "from nltk.corpus import stopwords"
   ]
  },
  {
   "cell_type": "code",
   "execution_count": 12,
   "id": "42ab2386",
   "metadata": {
    "scrolled": true
   },
   "outputs": [
    {
     "data": {
      "text/plain": [
       "['i',\n",
       " 'me',\n",
       " 'my',\n",
       " 'myself',\n",
       " 'we',\n",
       " 'our',\n",
       " 'ours',\n",
       " 'ourselves',\n",
       " 'you',\n",
       " \"you're\",\n",
       " \"you've\",\n",
       " \"you'll\",\n",
       " \"you'd\",\n",
       " 'your',\n",
       " 'yours',\n",
       " 'yourself',\n",
       " 'yourselves',\n",
       " 'he',\n",
       " 'him',\n",
       " 'his',\n",
       " 'himself',\n",
       " 'she',\n",
       " \"she's\",\n",
       " 'her',\n",
       " 'hers',\n",
       " 'herself',\n",
       " 'it',\n",
       " \"it's\",\n",
       " 'its',\n",
       " 'itself',\n",
       " 'they',\n",
       " 'them',\n",
       " 'their',\n",
       " 'theirs',\n",
       " 'themselves',\n",
       " 'what',\n",
       " 'which',\n",
       " 'who',\n",
       " 'whom',\n",
       " 'this',\n",
       " 'that',\n",
       " \"that'll\",\n",
       " 'these',\n",
       " 'those',\n",
       " 'am',\n",
       " 'is',\n",
       " 'are',\n",
       " 'was',\n",
       " 'were',\n",
       " 'be',\n",
       " 'been',\n",
       " 'being',\n",
       " 'have',\n",
       " 'has',\n",
       " 'had',\n",
       " 'having',\n",
       " 'do',\n",
       " 'does',\n",
       " 'did',\n",
       " 'doing',\n",
       " 'a',\n",
       " 'an',\n",
       " 'the',\n",
       " 'and',\n",
       " 'but',\n",
       " 'if',\n",
       " 'or',\n",
       " 'because',\n",
       " 'as',\n",
       " 'until',\n",
       " 'while',\n",
       " 'of',\n",
       " 'at',\n",
       " 'by',\n",
       " 'for',\n",
       " 'with',\n",
       " 'about',\n",
       " 'against',\n",
       " 'between',\n",
       " 'into',\n",
       " 'through',\n",
       " 'during',\n",
       " 'before',\n",
       " 'after',\n",
       " 'above',\n",
       " 'below',\n",
       " 'to',\n",
       " 'from',\n",
       " 'up',\n",
       " 'down',\n",
       " 'in',\n",
       " 'out',\n",
       " 'on',\n",
       " 'off',\n",
       " 'over',\n",
       " 'under',\n",
       " 'again',\n",
       " 'further',\n",
       " 'then',\n",
       " 'once',\n",
       " 'here',\n",
       " 'there',\n",
       " 'when',\n",
       " 'where',\n",
       " 'why',\n",
       " 'how',\n",
       " 'all',\n",
       " 'any',\n",
       " 'both',\n",
       " 'each',\n",
       " 'few',\n",
       " 'more',\n",
       " 'most',\n",
       " 'other',\n",
       " 'some',\n",
       " 'such',\n",
       " 'no',\n",
       " 'nor',\n",
       " 'not',\n",
       " 'only',\n",
       " 'own',\n",
       " 'same',\n",
       " 'so',\n",
       " 'than',\n",
       " 'too',\n",
       " 'very',\n",
       " 's',\n",
       " 't',\n",
       " 'can',\n",
       " 'will',\n",
       " 'just',\n",
       " 'don',\n",
       " \"don't\",\n",
       " 'should',\n",
       " \"should've\",\n",
       " 'now',\n",
       " 'd',\n",
       " 'll',\n",
       " 'm',\n",
       " 'o',\n",
       " 're',\n",
       " 've',\n",
       " 'y',\n",
       " 'ain',\n",
       " 'aren',\n",
       " \"aren't\",\n",
       " 'couldn',\n",
       " \"couldn't\",\n",
       " 'didn',\n",
       " \"didn't\",\n",
       " 'doesn',\n",
       " \"doesn't\",\n",
       " 'hadn',\n",
       " \"hadn't\",\n",
       " 'hasn',\n",
       " \"hasn't\",\n",
       " 'haven',\n",
       " \"haven't\",\n",
       " 'isn',\n",
       " \"isn't\",\n",
       " 'ma',\n",
       " 'mightn',\n",
       " \"mightn't\",\n",
       " 'mustn',\n",
       " \"mustn't\",\n",
       " 'needn',\n",
       " \"needn't\",\n",
       " 'shan',\n",
       " \"shan't\",\n",
       " 'shouldn',\n",
       " \"shouldn't\",\n",
       " 'wasn',\n",
       " \"wasn't\",\n",
       " 'weren',\n",
       " \"weren't\",\n",
       " 'won',\n",
       " \"won't\",\n",
       " 'wouldn',\n",
       " \"wouldn't\"]"
      ]
     },
     "execution_count": 12,
     "metadata": {},
     "output_type": "execute_result"
    }
   ],
   "source": [
    "stopwords.words('english')"
   ]
  },
  {
   "cell_type": "code",
   "execution_count": 13,
   "id": "18326696",
   "metadata": {},
   "outputs": [
    {
     "data": {
      "text/plain": [
       "179"
      ]
     },
     "execution_count": 13,
     "metadata": {},
     "output_type": "execute_result"
    }
   ],
   "source": [
    "len(stopwords.words('english'))"
   ]
  },
  {
   "cell_type": "code",
   "execution_count": 14,
   "id": "9a6843fd",
   "metadata": {},
   "outputs": [],
   "source": [
    "import string"
   ]
  },
  {
   "cell_type": "code",
   "execution_count": 15,
   "id": "e8541468",
   "metadata": {},
   "outputs": [
    {
     "data": {
      "text/plain": [
       "'!\"#$%&\\'()*+,-./:;<=>?@[\\\\]^_`{|}~'"
      ]
     },
     "execution_count": 15,
     "metadata": {},
     "output_type": "execute_result"
    }
   ],
   "source": [
    "string.punctuation"
   ]
  },
  {
   "cell_type": "code",
   "execution_count": 16,
   "id": "4c359993",
   "metadata": {},
   "outputs": [],
   "source": [
    "def text_process(mess):            ### creating a function\n",
    "    \"\"\"                                                        ## A docstring\n",
    "    1. remove the punctuation\n",
    "    2. remove the stopwords\n",
    "    3. return the list of clean textwords\n",
    "    \n",
    "    \"\"\"\n",
    "    nopunc = [char for char in mess if char not in string.punctuation]\n",
    "    nopunc = \"\".join(nopunc)\n",
    "    \n",
    "    return [ word for word in nopunc.split() if word not in stopwords.words(\"english\")]\n"
   ]
  },
  {
   "cell_type": "code",
   "execution_count": 17,
   "id": "ea631a37",
   "metadata": {
    "scrolled": true
   },
   "outputs": [
    {
     "data": {
      "text/plain": [
       "0       [stuning, even, nongamer, sound, track, beauti...\n",
       "1       [best, soundtrack, ever, anything, im, reading...\n",
       "2       [amazing, soundtrack, favorite, music, time, h...\n",
       "3       [excellent, soundtrack, truly, like, soundtrac...\n",
       "4       [remember, pull, jaw, floor, hearing, youve, p...\n",
       "                              ...                        \n",
       "9995    [revelation, life, small, town, america, early...\n",
       "9996    [great, biography, interesting, journalist, bi...\n",
       "9997    [interesting, subject, poor, presentation, you...\n",
       "9998    [dont, buy, box, looked, used, obviously, new,...\n",
       "9999    [beautiful, pen, fast, delivery, pen, shipped,...\n",
       "Name: review, Length: 10000, dtype: object"
      ]
     },
     "execution_count": 17,
     "metadata": {},
     "output_type": "execute_result"
    }
   ],
   "source": [
    "amazon['review'].apply(text_process)"
   ]
  },
  {
   "cell_type": "markdown",
   "id": "942aabf3",
   "metadata": {},
   "source": [
    "# CountVectorizer ... Count of each & every words"
   ]
  },
  {
   "cell_type": "code",
   "execution_count": 18,
   "id": "f3f481ea",
   "metadata": {},
   "outputs": [],
   "source": [
    "from sklearn.feature_extraction.text import CountVectorizer "
   ]
  },
  {
   "cell_type": "code",
   "execution_count": 19,
   "id": "48eef1c6",
   "metadata": {},
   "outputs": [],
   "source": [
    "bow_transformer = CountVectorizer(analyzer = text_process).fit(amazon['review'])"
   ]
  },
  {
   "cell_type": "code",
   "execution_count": 20,
   "id": "4e25efb3",
   "metadata": {},
   "outputs": [
    {
     "data": {
      "text/plain": [
       "{'stuning': 34189,\n",
       " 'even': 12595,\n",
       " 'nongamer': 24278,\n",
       " 'sound': 33125,\n",
       " 'track': 36325,\n",
       " 'beautiful': 3941,\n",
       " 'paints': 25720,\n",
       " 'senery': 31523,\n",
       " 'mind': 22665,\n",
       " 'well': 38818,\n",
       " 'would': 39538,\n",
       " 'recomend': 29102,\n",
       " 'people': 26193,\n",
       " 'hate': 16497,\n",
       " 'vid': 38116,\n",
       " 'game': 14941,\n",
       " 'music': 23568,\n",
       " 'played': 26823,\n",
       " 'chrono': 6964,\n",
       " 'cross': 8903,\n",
       " 'games': 14971,\n",
       " 'ever': 12608,\n",
       " 'best': 4239,\n",
       " 'backs': 3531,\n",
       " 'away': 3391,\n",
       " 'crude': 8936,\n",
       " 'keyboarding': 19746,\n",
       " 'takes': 34897,\n",
       " 'fresher': 14581,\n",
       " 'step': 33794,\n",
       " 'grate': 15807,\n",
       " 'guitars': 16080,\n",
       " 'soulful': 33109,\n",
       " 'orchestras': 25171,\n",
       " 'impress': 17969,\n",
       " 'anyone': 2530,\n",
       " 'cares': 6094,\n",
       " 'listen': 20917,\n",
       " 'soundtrack': 33147,\n",
       " 'anything': 2538,\n",
       " 'im': 17820,\n",
       " 'reading': 28886,\n",
       " 'lot': 21215,\n",
       " 'reviews': 30044,\n",
       " 'saying': 30943,\n",
       " 'figured': 13711,\n",
       " 'id': 17672,\n",
       " 'write': 39594,\n",
       " 'review': 30033,\n",
       " 'disagree': 10372,\n",
       " 'bit': 4457,\n",
       " 'opinino': 25096,\n",
       " 'yasunori': 39747,\n",
       " 'mitsudas': 22881,\n",
       " 'ultimate': 37007,\n",
       " 'masterpiece': 21946,\n",
       " 'timeless': 35894,\n",
       " 'listening': 20925,\n",
       " 'years': 39776,\n",
       " 'beauty': 3949,\n",
       " 'simply': 32293,\n",
       " 'refuses': 29327,\n",
       " 'fadethe': 13214,\n",
       " 'price': 27683,\n",
       " 'tag': 34868,\n",
       " 'pretty': 27654,\n",
       " 'staggering': 33574,\n",
       " 'must': 23616,\n",
       " 'say': 30938,\n",
       " 'going': 15546,\n",
       " 'buy': 5715,\n",
       " 'cd': 6337,\n",
       " 'much': 23457,\n",
       " 'money': 23020,\n",
       " 'one': 24940,\n",
       " 'feel': 13561,\n",
       " 'worth': 39522,\n",
       " 'every': 12633,\n",
       " 'penny': 26183,\n",
       " 'amazing': 2121,\n",
       " 'favorite': 13493,\n",
       " 'time': 35873,\n",
       " 'hands': 16303,\n",
       " 'intense': 18605,\n",
       " 'sadness': 30721,\n",
       " 'prisoners': 27780,\n",
       " 'fate': 13453,\n",
       " 'means': 22175,\n",
       " 'youve': 39898,\n",
       " 'hope': 17261,\n",
       " 'distant': 10663,\n",
       " 'promise': 27983,\n",
       " 'girl': 15365,\n",
       " 'stole': 33901,\n",
       " 'star': 33639,\n",
       " 'important': 17942,\n",
       " 'inspiration': 18475,\n",
       " 'personally': 26349,\n",
       " 'throughout': 35757,\n",
       " 'teen': 35123,\n",
       " 'higher': 16932,\n",
       " 'energy': 12119,\n",
       " 'tracks': 36337,\n",
       " 'like': 20785,\n",
       " 'times': 35914,\n",
       " 'scar': 30986,\n",
       " 'dreamwatch': 11126,\n",
       " 'chronomantique': 6970,\n",
       " 'indefinably': 18145,\n",
       " 'remeniscent': 29560,\n",
       " 'trigger': 36606,\n",
       " 'absolutely': 1117,\n",
       " 'superb': 34462,\n",
       " 'wellthis': 38881,\n",
       " 'probably': 27803,\n",
       " 'composers': 7842,\n",
       " 'work': 39423,\n",
       " 'havent': 16537,\n",
       " 'heard': 16639,\n",
       " 'xenogears': 39686,\n",
       " 'cant': 5978,\n",
       " 'sure': 34555,\n",
       " 'never': 24015,\n",
       " 'twice': 36889,\n",
       " 'iti': 19064,\n",
       " 'wish': 39233,\n",
       " 'could': 8529,\n",
       " 'give': 15392,\n",
       " '6': 802,\n",
       " 'stars': 33667,\n",
       " 'excellent': 12750,\n",
       " 'truly': 36723,\n",
       " 'enjoy': 12175,\n",
       " 'video': 38119,\n",
       " 'relaxing': 29452,\n",
       " 'peacefulon': 26096,\n",
       " 'disk': 10550,\n",
       " 'favorites': 13494,\n",
       " 'scars': 31015,\n",
       " 'life': 20711,\n",
       " 'death': 9431,\n",
       " 'forest': 14302,\n",
       " 'illusion': 17799,\n",
       " 'fortress': 14393,\n",
       " 'ancient': 2270,\n",
       " 'dragons': 11068,\n",
       " 'lost': 21208,\n",
       " 'fragment': 14466,\n",
       " 'drowned': 11205,\n",
       " 'valleydisk': 37847,\n",
       " 'two': 36907,\n",
       " 'draggons': 11059,\n",
       " 'galdorb': 14924,\n",
       " 'home': 17177,\n",
       " 'gale': 14925,\n",
       " 'girlfriend': 15370,\n",
       " 'likes': 20797,\n",
       " 'zelbessdisk': 39942,\n",
       " 'three': 35727,\n",
       " 'garden': 15034,\n",
       " 'god': 15508,\n",
       " 'chronopolis': 6971,\n",
       " 'fates': 13456,\n",
       " 'jellyfish': 19315,\n",
       " 'sea': 31259,\n",
       " 'burning': 5634,\n",
       " 'orphange': 25265,\n",
       " 'prayer': 27433,\n",
       " 'tower': 36290,\n",
       " 'dragon': 11061,\n",
       " 'radical': 28617,\n",
       " 'dreamers': 11116,\n",
       " 'unstealable': 37545,\n",
       " 'jeweloverall': 19357,\n",
       " 'brought': 5392,\n",
       " 'musicxander': 23603,\n",
       " 'remember': 29550,\n",
       " 'pull': 28246,\n",
       " 'jaw': 19261,\n",
       " 'floor': 14093,\n",
       " 'hearing': 16645,\n",
       " 'know': 19951,\n",
       " 'divine': 10741,\n",
       " 'single': 32339,\n",
       " 'song': 32981,\n",
       " 'tells': 35169,\n",
       " 'story': 33958,\n",
       " 'good': 15582,\n",
       " 'greatest': 15839,\n",
       " 'songs': 32997,\n",
       " 'without': 39266,\n",
       " 'doubt': 10984,\n",
       " 'magical': 21526,\n",
       " 'wind': 39171,\n",
       " 'unstolen': 37548,\n",
       " 'jewel': 19355,\n",
       " 'translation': 36449,\n",
       " 'varies': 37897,\n",
       " 'perfect': 26239,\n",
       " 'ask': 2970,\n",
       " 'mitsuda': 22880,\n",
       " 'poured': 27333,\n",
       " 'heart': 16648,\n",
       " 'wrote': 39642,\n",
       " 'paper': 25795,\n",
       " 'absolute': 1115,\n",
       " 'quite': 28547,\n",
       " 'actually': 1365,\n",
       " 'taking': 34898,\n",
       " 'read': 28859,\n",
       " 'least': 20454,\n",
       " 'whether': 38982,\n",
       " 'aware': 3388,\n",
       " 'contributed': 8254,\n",
       " 'greatly': 15849,\n",
       " 'mood': 23129,\n",
       " 'minute': 22736,\n",
       " 'whole': 39050,\n",
       " 'gamecomposed': 14947,\n",
       " '3': 565,\n",
       " 'cds': 6359,\n",
       " 'exact': 12702,\n",
       " 'count': 8545,\n",
       " 'heartrendering': 16671,\n",
       " 'impressively': 17981,\n",
       " 'remarkable': 29531,\n",
       " 'assure': 3058,\n",
       " 'forget': 14322,\n",
       " 'everything': 12653,\n",
       " 'listener': 20921,\n",
       " 'fastpaced': 13445,\n",
       " 'energetic': 12113,\n",
       " 'dancing': 9247,\n",
       " 'tokage': 36073,\n",
       " 'termina': 35249,\n",
       " 'slower': 32637,\n",
       " 'haunting': 16522,\n",
       " 'purely': 28322,\n",
       " 'beautifully': 3944,\n",
       " 'composed': 7840,\n",
       " 'fantastic': 13359,\n",
       " 'vocals': 38302,\n",
       " 'dreamersthis': 11117,\n",
       " 'videogame': 38127,\n",
       " 'soundtracks': 33149,\n",
       " 'surely': 34558,\n",
       " 'buyer': 5718,\n",
       " 'beware': 4311,\n",
       " 'selfpublished': 31465,\n",
       " 'book': 4824,\n",
       " 'want': 38490,\n",
       " 'whyread': 39075,\n",
       " 'paragraphs': 25824,\n",
       " '5': 744,\n",
       " 'written': 39616,\n",
       " 'ms': 23439,\n",
       " 'haddons': 16170,\n",
       " 'family': 13303,\n",
       " 'friendsor': 14617,\n",
       " 'perhaps': 26273,\n",
       " 'imagine': 17840,\n",
       " 'thingi': 35573,\n",
       " 'spent': 33324,\n",
       " 'evening': 12597,\n",
       " 'friend': 14601,\n",
       " 'hysterics': 17639,\n",
       " 'bits': 4467,\n",
       " 'pieces': 26589,\n",
       " 'another': 2421,\n",
       " 'definitely': 9619,\n",
       " 'bad': 3550,\n",
       " 'enough': 12207,\n",
       " 'entered': 12242,\n",
       " 'kind': 19836,\n",
       " 'worst': 39519,\n",
       " 'contest': 8206,\n",
       " 'believe': 4124,\n",
       " 'amazon': 2129,\n",
       " 'sells': 31482,\n",
       " 'thing': 35571,\n",
       " 'maybe': 22058,\n",
       " 'offer': 24784,\n",
       " '8th': 945,\n",
       " 'grade': 15718,\n",
       " 'term': 35247,\n",
       " 'kill': 19814,\n",
       " 'mockingbirda': 22919,\n",
       " 'haddon': 16169,\n",
       " 'anyway': 2544,\n",
       " 'unless': 37396,\n",
       " 'send': 31518,\n",
       " 'someone': 32943,\n",
       " 'jokestay': 19446,\n",
       " 'far': 13374,\n",
       " 'glorious': 15463,\n",
       " 'loved': 21256,\n",
       " 'whisper': 39018,\n",
       " 'wicked': 39084,\n",
       " 'saints': 30757,\n",
       " 'pleasantly': 26867,\n",
       " 'surprised': 34591,\n",
       " 'changes': 6519,\n",
       " 'normaly': 24356,\n",
       " 'romance': 30410,\n",
       " 'novels': 24477,\n",
       " 'world': 39476,\n",
       " 'raving': 28807,\n",
       " 'bought': 5064,\n",
       " 'brilliant': 5320,\n",
       " 'true': 36711,\n",
       " 'wonderful': 39356,\n",
       " 'told': 36076,\n",
       " 'friends': 14608,\n",
       " 'typical': 36943,\n",
       " 'crime': 8814,\n",
       " 'becuase': 3976,\n",
       " 'missing': 22826,\n",
       " 'warming': 38529,\n",
       " 'five': 13933,\n",
       " 'finished': 13821,\n",
       " 'fell': 13589,\n",
       " 'love': 21249,\n",
       " 'caracters': 6052,\n",
       " 'expected': 12915,\n",
       " 'average': 3345,\n",
       " 'instead': 18514,\n",
       " 'found': 14422,\n",
       " 'books': 4887,\n",
       " 'thought': 35684,\n",
       " 'predict': 27475,\n",
       " 'outcome': 25357,\n",
       " 'shocked': 31978,\n",
       " 'writting': 39624,\n",
       " 'descriptive': 9884,\n",
       " 'broke': 5361,\n",
       " 'julias': 19541,\n",
       " 'felt': 13597,\n",
       " 'reader': 28870,\n",
       " 'lover': 21270,\n",
       " 'dont': 10913,\n",
       " 'let': 20600,\n",
       " 'cover': 8601,\n",
       " 'fool': 14227,\n",
       " 'spectacular': 33284,\n",
       " 'whispers': 39020,\n",
       " 'easy': 11548,\n",
       " 'made': 21492,\n",
       " 'keep': 19688,\n",
       " 'put': 28371,\n",
       " 'downit': 11014,\n",
       " 'left': 20493,\n",
       " 'wanting': 38497,\n",
       " 'follow': 14198,\n",
       " 'coming': 7620,\n",
       " 'soon': 33035,\n",
       " 'used': 37721,\n",
       " 'gotten': 15682,\n",
       " 'enjoyable': 12176,\n",
       " 'complete': 7802,\n",
       " 'waste': 38597,\n",
       " 'typographical': 36948,\n",
       " 'errors': 12433,\n",
       " 'poor': 27128,\n",
       " 'grammar': 15747,\n",
       " 'totally': 36239,\n",
       " 'pathetic': 26001,\n",
       " 'plot': 26904,\n",
       " 'add': 1398,\n",
       " 'nothing': 24412,\n",
       " 'embarrassed': 11926,\n",
       " 'author': 3264,\n",
       " 'disappointed': 10392,\n",
       " 'paid': 25694,\n",
       " 'great': 15834,\n",
       " 'booki': 4854,\n",
       " 'downand': 11006,\n",
       " 'fast': 13432,\n",
       " 'boy': 5117,\n",
       " 'twist': 36902,\n",
       " 'turns': 36838,\n",
       " 'keeps': 19692,\n",
       " 'guessing': 16045,\n",
       " 'happen': 16347,\n",
       " 'next': 24061,\n",
       " 'makes': 21601,\n",
       " 'fall': 13273,\n",
       " 'heat': 16682,\n",
       " 'upit': 37639,\n",
       " 'also': 2049,\n",
       " 'make': 21591,\n",
       " 'angery': 2331,\n",
       " 'go': 15497,\n",
       " 'throu': 35751,\n",
       " 'several': 31712,\n",
       " 'emotions': 11979,\n",
       " 'quick': 28504,\n",
       " 'something': 32953,\n",
       " 'end': 12058,\n",
       " 'day': 9351,\n",
       " 'night': 24115,\n",
       " 'yet': 39816,\n",
       " 'realistic': 28934,\n",
       " 'showed': 32072,\n",
       " 'error': 12432,\n",
       " 'human': 17494,\n",
       " 'fact': 13186,\n",
       " 'writer': 39597,\n",
       " 'loving': 21284,\n",
       " 'side': 32151,\n",
       " 'revengeful': 30019,\n",
       " 'twisted': 36903,\n",
       " 'turned': 36831,\n",
       " 'glass': 15420,\n",
       " 'castle': 6225,\n",
       " 'oh': 24838,\n",
       " 'please': 26869,\n",
       " 'guess': 16041,\n",
       " 'novel': 24463,\n",
       " 'discerning': 10425,\n",
       " 'others': 25311,\n",
       " 'drivel': 11172,\n",
       " 'trouble': 36685,\n",
       " 'typo': 36947,\n",
       " 'prominently': 27980,\n",
       " 'featured': 13530,\n",
       " 'back': 3501,\n",
       " 'first': 13880,\n",
       " 'page': 25683,\n",
       " 'removed': 29590,\n",
       " 'wait': 38422,\n",
       " 'point': 27003,\n",
       " 'reread': 29773,\n",
       " 'beginning': 4056,\n",
       " 'clear': 7187,\n",
       " 'intentional': 18614,\n",
       " 'churning': 6997,\n",
       " 'overheated': 25510,\n",
       " 'prose': 28058,\n",
       " 'satiric': 30891,\n",
       " 'purposes': 28349,\n",
       " 'phew': 26447,\n",
       " 'glad': 15404,\n",
       " 'didnt': 10163,\n",
       " '1095': 71,\n",
       " 'awful': 3413,\n",
       " 'beyond': 4323,\n",
       " 'belief': 4117,\n",
       " 'wasting': 38603,\n",
       " 'seems': 31372,\n",
       " '7th': 905,\n",
       " 'grader': 15720,\n",
       " 'grammatical': 15749,\n",
       " 'skills': 32484,\n",
       " 'age': 1672,\n",
       " 'reviewer': 30037,\n",
       " 'points': 27013,\n",
       " 'misspelling': 22841,\n",
       " 'per': 26215,\n",
       " 'chapter': 6550,\n",
       " 'example': 12726,\n",
       " 'mentioned': 22381,\n",
       " 'lean': 20429,\n",
       " 'house': 17397,\n",
       " 'distracted': 10683,\n",
       " 'writing': 39609,\n",
       " 'weak': 38702,\n",
       " 'decided': 9497,\n",
       " 'pencil': 26168,\n",
       " 'hand': 16271,\n",
       " 'mark': 21830,\n",
       " 'horrible': 17307,\n",
       " 'spelling': 33314,\n",
       " 'authors': 3281,\n",
       " 'relatives': 29443,\n",
       " 'faith': 13255,\n",
       " 'try': 36750,\n",
       " 'us': 37699,\n",
       " 'fake': 13264,\n",
       " 'glaringly': 15418,\n",
       " 'obvious': 24677,\n",
       " 'glowing': 15475,\n",
       " 'person': 26340,\n",
       " 'misspellings': 22842,\n",
       " 'sentence': 31564,\n",
       " 'structure': 34125,\n",
       " 'veronica': 38023,\n",
       " 'think': 35586,\n",
       " 'romantic': 30418,\n",
       " 'zen': 39946,\n",
       " 'baseball': 3759,\n",
       " 'comedy': 7584,\n",
       " 'hear': 16637,\n",
       " 'folks': 14190,\n",
       " 'em': 11901,\n",
       " 'anymore': 2523,\n",
       " 'might': 22604,\n",
       " 'talking': 34919,\n",
       " 'cool': 8347,\n",
       " 'young': 39864,\n",
       " 'cuban': 8997,\n",
       " 'searching': 31284,\n",
       " 'idenity': 17691,\n",
       " 'stumbles': 34186,\n",
       " 'coastal': 7364,\n",
       " 'resort': 29849,\n",
       " 'kitchen': 19886,\n",
       " 'gig': 15313,\n",
       " 'motorcycle': 23284,\n",
       " 'maintenance': 21580,\n",
       " 'man': 21654,\n",
       " 'hysterical': 17637,\n",
       " 'italian': 18998,\n",
       " 'chefs': 6730,\n",
       " 'latino': 20290,\n",
       " 'fireballing': 13845,\n",
       " 'right': 30189,\n",
       " 'handed': 16280,\n",
       " 'pitcher': 26687,\n",
       " 'plays': 26852,\n",
       " 'team': 35060,\n",
       " 'sponsored': 33431,\n",
       " 'resorts': 29852,\n",
       " 'owner': 25603,\n",
       " 'often': 24830,\n",
       " 'case': 6189,\n",
       " 'finds': 13790,\n",
       " 'honest': 17218,\n",
       " 'comical': 7614,\n",
       " 'always': 2098,\n",
       " 'emotional': 11975,\n",
       " 'interaction': 18623,\n",
       " 'sizzling': 32440,\n",
       " 'roster': 30480,\n",
       " 'players': 26830,\n",
       " 'mix': 22884,\n",
       " 'special': 33253,\n",
       " 'effects': 11692,\n",
       " 'salsa': 30778,\n",
       " 'flashbacks': 13982,\n",
       " 'gets': 15255,\n",
       " '4': 658,\n",
       " 'big': 4355,\n",
       " 'fashionable': 13425,\n",
       " 'compression': 7867,\n",
       " 'stockings': 33892,\n",
       " 'dvt': 11414,\n",
       " 'doctor': 10793,\n",
       " 'required': 29767,\n",
       " 'wear': 38720,\n",
       " 'wore': 39422,\n",
       " 'ugly': 36986,\n",
       " 'white': 39026,\n",
       " 'ted': 35113,\n",
       " 'hose': 17350,\n",
       " 'yucky': 39907,\n",
       " 'thick': 35554,\n",
       " 'brown': 5395,\n",
       " 'jobst': 19413,\n",
       " 'ultrasheer': 37013,\n",
       " 'gave': 15096,\n",
       " 'needed': 23908,\n",
       " '1520': 173,\n",
       " 'looked': 21145,\n",
       " 'regular': 29368,\n",
       " 'pantyhose': 25792,\n",
       " 'though': 35677,\n",
       " 'blood': 4624,\n",
       " 'clot': 7309,\n",
       " 'gone': 15574,\n",
       " 'still': 33850,\n",
       " 'support': 34519,\n",
       " 'legs': 20533,\n",
       " 'nicenote': 24076,\n",
       " 'problems': 27818,\n",
       " 'rubberized': 30549,\n",
       " 'tops': 36183,\n",
       " 'rolling': 30403,\n",
       " 'thigh': 35561,\n",
       " 'tried': 36600,\n",
       " 'adhesive': 1436,\n",
       " 'hated': 16500,\n",
       " 'skin': 32493,\n",
       " 'pulled': 28247,\n",
       " 'inexpensive': 18231,\n",
       " 'garter': 15058,\n",
       " 'belt': 4162,\n",
       " 'works': 39461,\n",
       " 'fine': 13791,\n",
       " 'helps': 16785,\n",
       " 'high': 16927,\n",
       " 'product': 27863,\n",
       " 'however': 17431,\n",
       " 'difficult': 10227,\n",
       " 'get': 15245,\n",
       " 'older': 24878,\n",
       " 'ive': 19147,\n",
       " 'full': 14721,\n",
       " 'workout': 39456,\n",
       " 'getting': 15258,\n",
       " 'wears': 38728,\n",
       " 'begin': 4043,\n",
       " 'roll': 30391,\n",
       " 'top': 36163,\n",
       " 'create': 8745,\n",
       " 'deep': 9552,\n",
       " 'ridge': 30167,\n",
       " 'difficulties': 10228,\n",
       " 'addressed': 1421,\n",
       " 'help': 16770,\n",
       " 'sizes': 32434,\n",
       " 'recomended': 29106,\n",
       " 'size': 32427,\n",
       " 'chart': 6648,\n",
       " 'real': 28917,\n",
       " 'smaller': 32670,\n",
       " 'sheer': 31875,\n",
       " 'item': 19034,\n",
       " 'internetit': 18687,\n",
       " 'better': 4279,\n",
       " 'store': 33931,\n",
       " 'check': 6695,\n",
       " 'mens': 22371,\n",
       " 'model': 22928,\n",
       " 'may': 22056,\n",
       " 'ok': 24851,\n",
       " 'sedentary': 31342,\n",
       " 'types': 36939,\n",
       " 'active': 1340,\n",
       " 'around': 2845,\n",
       " 'alot': 2034,\n",
       " 'job': 19404,\n",
       " 'consistently': 8119,\n",
       " 'rolled': 30395,\n",
       " 'ankles': 2367,\n",
       " 'solution': 32925,\n",
       " 'standard': 33615,\n",
       " 'stocking': 33891,\n",
       " '2030': 413,\n",
       " 'stock': 33887,\n",
       " '114622': 100,\n",
       " 'stays': 33751,\n",
       " 'gives': 15398,\n",
       " 'need': 23907,\n",
       " 'pair': 25721,\n",
       " 'tore': 36189,\n",
       " 'struggled': 34133,\n",
       " 'riddancebad': 30154,\n",
       " 'investment': 18834,\n",
       " 'delicious': 9690,\n",
       " 'cookie': 8340,\n",
       " 'funny': 14784,\n",
       " 'knowing': 19957,\n",
       " 'header': 16595,\n",
       " 'quickly': 28514,\n",
       " 'packaged': 25652,\n",
       " 'cookies': 8341,\n",
       " 'noticed': 24426,\n",
       " 'since': 32309,\n",
       " 'titlethis': 36008,\n",
       " 'baking': 3595,\n",
       " 'convenience': 8281,\n",
       " 'dough': 10991,\n",
       " 'wrapped': 39561,\n",
       " 'plastic': 26784,\n",
       " 'logs': 21095,\n",
       " 'surprise': 34589,\n",
       " 'mixing': 22891,\n",
       " 'messy': 22461,\n",
       " 'extremely': 13100,\n",
       " 'sticky': 33840,\n",
       " 'flexibility': 14045,\n",
       " 'ratio': 28779,\n",
       " 'ingredients': 18317,\n",
       " 'extra': 13083,\n",
       " 'butter': 5696,\n",
       " 'baked': 3591,\n",
       " 'chewy': 6769,\n",
       " 'really': 28952,\n",
       " 'large': 20228,\n",
       " 'chocolate': 6873,\n",
       " 'chips': 6846,\n",
       " 'thati': 35383,\n",
       " 'addition': 1409,\n",
       " 'natural': 23813,\n",
       " 'flavors': 14020,\n",
       " 'abysmal': 1151,\n",
       " 'digital': 10249,\n",
       " 'copy': 8386,\n",
       " 'rather': 28774,\n",
       " 'scratches': 31190,\n",
       " 'insect': 18427,\n",
       " 'droppings': 11199,\n",
       " 'random': 28706,\n",
       " 'pixelations': 26709,\n",
       " 'combined': 7565,\n",
       " 'muddy': 23484,\n",
       " 'light': 20754,\n",
       " 'vague': 37825,\n",
       " 'image': 17823,\n",
       " 'resolution': 29838,\n",
       " 'cue': 9009,\n",
       " 'packaging': 25656,\n",
       " 'straight': 33992,\n",
       " 'street': 34051,\n",
       " 'corner': 8430,\n",
       " 'bootleg': 4951,\n",
       " 'dealerif': 9418,\n",
       " 'seen': 31374,\n",
       " 'reasonably': 28984,\n",
       " 'condition': 7969,\n",
       " 'film': 13734,\n",
       " 'defining': 9616,\n",
       " 'visuals': 38269,\n",
       " 'crystal': 8975,\n",
       " 'lighting': 20765,\n",
       " 'contrasts': 8252,\n",
       " 'black': 4490,\n",
       " 'surrounding': 34611,\n",
       " 'countryside': 8568,\n",
       " 'old': 24875,\n",
       " 'scenes': 31044,\n",
       " 'set': 31672,\n",
       " 'early': 11487,\n",
       " 'morning': 23206,\n",
       " 'ground': 15965,\n",
       " 'mists': 22862,\n",
       " 'haze': 16569,\n",
       " 'memory': 22346,\n",
       " 'events': 12603,\n",
       " 'bridge': 5296,\n",
       " 'water': 38627,\n",
       " 'bright': 5305,\n",
       " 'immediatehere': 17874,\n",
       " 'dull': 11300,\n",
       " 'dark': 9291,\n",
       " 'clouded': 7320,\n",
       " 'timbre': 35872,\n",
       " 'enunciation': 12308,\n",
       " 'captains': 6026,\n",
       " 'commands': 7631,\n",
       " 'visualsafter': 38270,\n",
       " 'hard': 16388,\n",
       " 'award': 3382,\n",
       " 'winning': 39195,\n",
       " 'critically': 8857,\n",
       " 'acclaimed': 1198,\n",
       " 'films': 13757,\n",
       " 'presentation': 27588,\n",
       " 'youtube': 39895,\n",
       " 'somewhere': 32967,\n",
       " 'dvd': 11387,\n",
       " 'comes': 7592,\n",
       " '16mm': 200,\n",
       " 'public': 28207,\n",
       " 'library': 20677,\n",
       " 'reeljust': 29242,\n",
       " 'none': 24257,\n",
       " 'appear': 2633,\n",
       " 'fascinating': 13418,\n",
       " 'insight': 18442,\n",
       " 'modern': 22940,\n",
       " 'japanese': 19236,\n",
       " 'teens': 35133,\n",
       " 'thoroughly': 35668,\n",
       " 'enjoyed': 12179,\n",
       " 'rising': 30248,\n",
       " 'sons': 33026,\n",
       " 'daughters': 9333,\n",
       " 'looks': 21151,\n",
       " 'society': 32838,\n",
       " 'view': 38148,\n",
       " 'poised': 27022,\n",
       " 'parents': 25855,\n",
       " 'ageold': 1684,\n",
       " 'culture': 9028,\n",
       " 'restraint': 29912,\n",
       " 'obedience': 24621,\n",
       " 'community': 7696,\n",
       " 'peers': 26140,\n",
       " 'adulation': 1505,\n",
       " 'western': 38914,\n",
       " 'form': 14345,\n",
       " 'new': 24024,\n",
       " 'japan': 19234,\n",
       " 'seem': 31364,\n",
       " 'creating': 8753,\n",
       " 'international': 18681,\n",
       " 'blend': 4574,\n",
       " 'ando': 2287,\n",
       " 'demonstrates': 9772,\n",
       " 'vignettes': 38171,\n",
       " 'private': 27786,\n",
       " 'lives': 20997,\n",
       " 'members': 22330,\n",
       " 'steven': 33825,\n",
       " 'wardell': 38506,\n",
       " 'clearly': 7196,\n",
       " 'talented': 34904,\n",
       " 'adopted': 1488,\n",
       " 'schooling': 31108,\n",
       " 'four': 14433,\n",
       " 'thus': 35797,\n",
       " 'able': 1067,\n",
       " 'inside': 18440,\n",
       " 'liked': 20790,\n",
       " 'album': 1852,\n",
       " 'obut': 24674,\n",
       " 'listened': 20920,\n",
       " 'blue': 4653,\n",
       " 'angellanna': 2323,\n",
       " 'mama': 21647,\n",
       " 'hair': 16199,\n",
       " 'rose': 30469,\n",
       " 'neckroy': 23901,\n",
       " 'trully': 36722,\n",
       " 'singer': 32324,\n",
       " 'talent': 34903,\n",
       " 'find': 13783,\n",
       " 'days': 9364,\n",
       " 'problem': 27812,\n",
       " 'charging': 6622,\n",
       " 'aaas': 1013,\n",
       " 'charger': 6614,\n",
       " 'charges': 6620,\n",
       " 'aa': 1009,\n",
       " 'batteries': 3832,\n",
       " 'huge': 17482,\n",
       " 'securing': 31339,\n",
       " 'aaa': 1010,\n",
       " 'charge': 6608,\n",
       " 'flip': 14071,\n",
       " 'little': 20965,\n",
       " 'button': 5705,\n",
       " 'positive': 27238,\n",
       " 'pop': 27141,\n",
       " 'wont': 39380,\n",
       " 'hold': 17136,\n",
       " 'mechanism': 22202,\n",
       " 'became': 3958,\n",
       " 'loose': 21170,\n",
       " 'horizontal': 17291,\n",
       " 'pressure': 27622,\n",
       " 'push': 28360,\n",
       " 'buttons': 5709,\n",
       " 'using': 37756,\n",
       " 'duct': 11273,\n",
       " 'tape': 34963,\n",
       " 'segment': 31393,\n",
       " 'crayon': 8724,\n",
       " 'apply': 2671,\n",
       " 'wrap': 39559,\n",
       " 'painful': 25700,\n",
       " 'advertised': 1542,\n",
       " 'chargersthe': 6618,\n",
       " 'instructions': 18541,\n",
       " 'lights': 20775,\n",
       " 'stay': 33744,\n",
       " 'battery': 3835,\n",
       " 'chargestrue': 6621,\n",
       " 'turn': 36829,\n",
       " 'done': 10897,\n",
       " '24': 465,\n",
       " 'hours': 17393,\n",
       " 'returned': 29987,\n",
       " 'thinking': 35591,\n",
       " 'unitthe': 37373,\n",
       " 'kept': 19725,\n",
       " 'chargebut': 6611,\n",
       " 'useless': 37737,\n",
       " 'backup': 3538,\n",
       " 'manage': 21655,\n",
       " 'drain': 11072,\n",
       " 'aas': 1019,\n",
       " 'wouldnt': 39540,\n",
       " 'reviewsmade': 30049,\n",
       " 'purchase': 28305,\n",
       " 'convenient': 8282,\n",
       " 'lasts': 20264,\n",
       " 'short': 32015,\n",
       " 'longer': 21119,\n",
       " 'kodak': 19984,\n",
       " 'nimh': 24158,\n",
       " 'dear': 9427,\n",
       " 'excited': 12787,\n",
       " 'ostensibly': 25293,\n",
       " 'muslim': 23610,\n",
       " 'feminism': 13606,\n",
       " 'volume': 38332,\n",
       " 'live': 20975,\n",
       " 'expectationsone': 12911,\n",
       " 'essay': 12480,\n",
       " 'among': 2203,\n",
       " 'things': 35575,\n",
       " 'describes': 9877,\n",
       " 'veil': 37946,\n",
       " 'potentially': 27311,\n",
       " 'liberating': 20666,\n",
       " 'doesnt': 10830,\n",
       " 'explain': 12982,\n",
       " 'whyanother': 39071,\n",
       " 'women': 39348,\n",
       " 'cape': 5996,\n",
       " 'town': 36295,\n",
       " 'claims': 7085,\n",
       " 'separate': 31580,\n",
       " 'equal': 12367,\n",
       " 'gee': 15124,\n",
       " 'whiz': 39042,\n",
       " 'disappointmenti': 10403,\n",
       " 'hoped': 17262,\n",
       " 'feminist': 13607,\n",
       " 'condemnation': 7958,\n",
       " 'gender': 15148,\n",
       " 'apartheid': 2566,\n",
       " 'bookim': 4857,\n",
       " 'extolling': 13081,\n",
       " 'virtues': 38233,\n",
       " 'female': 13599,\n",
       " 'genital': 15181,\n",
       " 'mutilationalyssa': 23643,\n",
       " 'lappen': 20220,\n",
       " 'based': 3761,\n",
       " 'vcrdvd': 37924,\n",
       " 'christmas': 6944,\n",
       " 'present': 27586,\n",
       " 'deciding': 9501,\n",
       " 'join': 19435,\n",
       " 'rest': 29889,\n",
       " 'dvdland': 11397,\n",
       " 'vhs': 38072,\n",
       " 'movies': 23385,\n",
       " 'jvc': 19607,\n",
       " 'tv': 36857,\n",
       " 'choice': 6877,\n",
       " 'agree': 1720,\n",
       " 'setup': 31703,\n",
       " 'awkward': 3425,\n",
       " 'tvvhsdvd': 36869,\n",
       " 'selection': 31411,\n",
       " 'options': 25156,\n",
       " 'hang': 16320,\n",
       " 'ittwo': 19128,\n",
       " 'comments': 7647,\n",
       " 'intuitive': 18795,\n",
       " 'complicated': 7826,\n",
       " 'many': 21771,\n",
       " 'remote': 29584,\n",
       " 'technicallyminded': 35084,\n",
       " 'rely': 29515,\n",
       " 'heavily': 16699,\n",
       " 'howto': 17442,\n",
       " 'manual': 21748,\n",
       " 'setting': 31689,\n",
       " 'vcr': 37923,\n",
       " 'timer': 35910,\n",
       " 'enter': 12241,\n",
       " 'start': 33679,\n",
       " 'scroll': 31237,\n",
       " 'somethingbut': 32954,\n",
       " 'complaints': 7795,\n",
       " 'incorrect': 18116,\n",
       " 'disc': 10420,\n",
       " 'fan': 13323,\n",
       " 'suspiscious': 34654,\n",
       " 'saw': 30932,\n",
       " 'units': 37370,\n",
       " 'return': 29985,\n",
       " 'section': 31328,\n",
       " 'happy': 16380,\n",
       " 'unit': 37363,\n",
       " 'sends': 31522,\n",
       " 'clicks': 7226,\n",
       " 'receiver': 29049,\n",
       " 'transition': 36442,\n",
       " 'smoothlike': 32728,\n",
       " 'pause': 26047,\n",
       " 'fairly': 13241,\n",
       " 'dvdcd': 11394,\n",
       " 'headcleaner': 16593,\n",
       " 'message': 22447,\n",
       " 'itbut': 19017,\n",
       " 'nuti': 24583,\n",
       " 'televisions': 35157,\n",
       " 'bookshelf': 4895,\n",
       " 'audio': 3210,\n",
       " 'system': 34821,\n",
       " 'car': 6047,\n",
       " 'came': 5872,\n",
       " 'move': 23327,\n",
       " 'player': 26825,\n",
       " 'boys': 5130,\n",
       " 'room': 30444,\n",
       " 'knew': 19919,\n",
       " 'combo': 7568,\n",
       " 'except': 12760,\n",
       " '2': 372,\n",
       " 'things1no': 35576,\n",
       " 'cable': 5796,\n",
       " 'box': 5104,\n",
       " 'compatability': 7745,\n",
       " ...}"
      ]
     },
     "execution_count": 20,
     "metadata": {},
     "output_type": "execute_result"
    }
   ],
   "source": [
    "bow_transformer.vocabulary_  "
   ]
  },
  {
   "cell_type": "code",
   "execution_count": 21,
   "id": "8927c872",
   "metadata": {},
   "outputs": [
    {
     "data": {
      "text/plain": [
       "40040"
      ]
     },
     "execution_count": 21,
     "metadata": {},
     "output_type": "execute_result"
    }
   ],
   "source": [
    "len(bow_transformer.vocabulary_)  "
   ]
  },
  {
   "cell_type": "markdown",
   "id": "99c28e2e",
   "metadata": {},
   "source": [
    "# Term Document Frequency(TDM)"
   ]
  },
  {
   "cell_type": "code",
   "execution_count": 22,
   "id": "f4674248",
   "metadata": {},
   "outputs": [],
   "source": [
    "amazon_bow = bow_transformer.transform(amazon.review)"
   ]
  },
  {
   "cell_type": "code",
   "execution_count": 23,
   "id": "a1b98987",
   "metadata": {
    "scrolled": true
   },
   "outputs": [
    {
     "data": {
      "text/plain": [
       "(10000, 40040)"
      ]
     },
     "execution_count": 23,
     "metadata": {},
     "output_type": "execute_result"
    }
   ],
   "source": [
    "amazon_bow.shape"
   ]
  },
  {
   "cell_type": "code",
   "execution_count": 24,
   "id": "92e7fc7d",
   "metadata": {},
   "outputs": [
    {
     "data": {
      "text/plain": [
       "scipy.sparse.csr.csr_matrix"
      ]
     },
     "execution_count": 24,
     "metadata": {},
     "output_type": "execute_result"
    }
   ],
   "source": [
    "type(amazon_bow)"
   ]
  },
  {
   "cell_type": "code",
   "execution_count": null,
   "id": "c0ad559c",
   "metadata": {},
   "outputs": [],
   "source": []
  },
  {
   "cell_type": "markdown",
   "id": "03a9aaaa",
   "metadata": {},
   "source": [
    "# Train-Test Split"
   ]
  },
  {
   "cell_type": "code",
   "execution_count": 35,
   "id": "3a2ed9b4",
   "metadata": {},
   "outputs": [],
   "source": [
    "from sklearn.model_selection import train_test_split"
   ]
  },
  {
   "cell_type": "code",
   "execution_count": 36,
   "id": "0baf3b4e",
   "metadata": {},
   "outputs": [],
   "source": [
    "x_train , x_test , y_train , y_test = train_test_split(amazon_bow , amazon.label , test_size=.2) "
   ]
  },
  {
   "cell_type": "code",
   "execution_count": null,
   "id": "0f1a9e36",
   "metadata": {},
   "outputs": [],
   "source": []
  },
  {
   "cell_type": "markdown",
   "id": "1b0826a6",
   "metadata": {},
   "source": [
    "# Model building"
   ]
  },
  {
   "cell_type": "markdown",
   "id": "d22f9aa6",
   "metadata": {},
   "source": [
    "# 1) Logistic_Regression"
   ]
  },
  {
   "cell_type": "code",
   "execution_count": 41,
   "id": "fc6137e5",
   "metadata": {},
   "outputs": [],
   "source": [
    "from sklearn.linear_model import LogisticRegression\n",
    "from sklearn.metrics import confusion_matrix , classification_report\n",
    "logreg= LogisticRegression()"
   ]
  },
  {
   "cell_type": "code",
   "execution_count": 42,
   "id": "9f9b84cb",
   "metadata": {},
   "outputs": [
    {
     "name": "stderr",
     "output_type": "stream",
     "text": [
      "C:\\Users\\DELL\\anaconda3\\lib\\site-packages\\sklearn\\linear_model\\_logistic.py:763: ConvergenceWarning: lbfgs failed to converge (status=1):\n",
      "STOP: TOTAL NO. of ITERATIONS REACHED LIMIT.\n",
      "\n",
      "Increase the number of iterations (max_iter) or scale the data as shown in:\n",
      "    https://scikit-learn.org/stable/modules/preprocessing.html\n",
      "Please also refer to the documentation for alternative solver options:\n",
      "    https://scikit-learn.org/stable/modules/linear_model.html#logistic-regression\n",
      "  n_iter_i = _check_optimize_result(\n"
     ]
    },
    {
     "data": {
      "text/plain": [
       "LogisticRegression()"
      ]
     },
     "execution_count": 42,
     "metadata": {},
     "output_type": "execute_result"
    }
   ],
   "source": [
    "logreg.fit(x_train , y_train ) "
   ]
  },
  {
   "cell_type": "code",
   "execution_count": 43,
   "id": "20e61cd7",
   "metadata": {},
   "outputs": [
    {
     "data": {
      "text/plain": [
       "array([0, 0, 0, ..., 0, 1, 1], dtype=int64)"
      ]
     },
     "execution_count": 43,
     "metadata": {},
     "output_type": "execute_result"
    }
   ],
   "source": [
    "pred_log = logreg.predict(x_test) \n",
    "pred_log"
   ]
  },
  {
   "cell_type": "code",
   "execution_count": 44,
   "id": "b8086507",
   "metadata": {},
   "outputs": [
    {
     "data": {
      "text/plain": [
       "array([[872, 147],\n",
       "       [143, 838]], dtype=int64)"
      ]
     },
     "execution_count": 44,
     "metadata": {},
     "output_type": "execute_result"
    }
   ],
   "source": [
    "tab_log = confusion_matrix( pred_log , y_test)\n",
    "tab_log"
   ]
  },
  {
   "cell_type": "code",
   "execution_count": 45,
   "id": "7a553701",
   "metadata": {},
   "outputs": [
    {
     "data": {
      "text/plain": [
       "array([[-0.12935957,  0.05694811, -0.00183452, ...,  0.        ,\n",
       "        -0.06537269, -0.01797832]])"
      ]
     },
     "execution_count": 45,
     "metadata": {},
     "output_type": "execute_result"
    }
   ],
   "source": [
    "logreg.coef_ "
   ]
  },
  {
   "cell_type": "code",
   "execution_count": 46,
   "id": "eb8b9a53",
   "metadata": {},
   "outputs": [
    {
     "data": {
      "text/plain": [
       "array([-0.17695236])"
      ]
     },
     "execution_count": 46,
     "metadata": {},
     "output_type": "execute_result"
    }
   ],
   "source": [
    "logreg.intercept_ "
   ]
  },
  {
   "cell_type": "code",
   "execution_count": 47,
   "id": "d91b3f87",
   "metadata": {},
   "outputs": [
    {
     "name": "stdout",
     "output_type": "stream",
     "text": [
      "              precision    recall  f1-score   support\n",
      "\n",
      "           0       0.86      0.86      0.86      1015\n",
      "           1       0.85      0.85      0.85       985\n",
      "\n",
      "    accuracy                           0.85      2000\n",
      "   macro avg       0.85      0.85      0.85      2000\n",
      "weighted avg       0.85      0.85      0.85      2000\n",
      "\n"
     ]
    }
   ],
   "source": [
    "print(classification_report(y_test , pred_log))"
   ]
  },
  {
   "cell_type": "code",
   "execution_count": null,
   "id": "538f3552",
   "metadata": {},
   "outputs": [],
   "source": []
  },
  {
   "cell_type": "code",
   "execution_count": 48,
   "id": "84d1a46b",
   "metadata": {},
   "outputs": [],
   "source": [
    "pred_prob_train = logreg.predict_proba(x_train)\n",
    "pred_prob_test  = logreg.predict_proba(x_test)"
   ]
  },
  {
   "cell_type": "code",
   "execution_count": 49,
   "id": "8cbac765",
   "metadata": {},
   "outputs": [
    {
     "data": {
      "text/html": [
       "<div>\n",
       "<style scoped>\n",
       "    .dataframe tbody tr th:only-of-type {\n",
       "        vertical-align: middle;\n",
       "    }\n",
       "\n",
       "    .dataframe tbody tr th {\n",
       "        vertical-align: top;\n",
       "    }\n",
       "\n",
       "    .dataframe thead th {\n",
       "        text-align: right;\n",
       "    }\n",
       "</style>\n",
       "<table border=\"1\" class=\"dataframe\">\n",
       "  <thead>\n",
       "    <tr style=\"text-align: right;\">\n",
       "      <th></th>\n",
       "      <th>Pred_Prob0</th>\n",
       "      <th>Pred_prob1</th>\n",
       "    </tr>\n",
       "  </thead>\n",
       "  <tbody>\n",
       "    <tr>\n",
       "      <th>0</th>\n",
       "      <td>0.715394</td>\n",
       "      <td>0.284606</td>\n",
       "    </tr>\n",
       "    <tr>\n",
       "      <th>1</th>\n",
       "      <td>0.999896</td>\n",
       "      <td>0.000104</td>\n",
       "    </tr>\n",
       "    <tr>\n",
       "      <th>2</th>\n",
       "      <td>0.954245</td>\n",
       "      <td>0.045755</td>\n",
       "    </tr>\n",
       "    <tr>\n",
       "      <th>3</th>\n",
       "      <td>0.682121</td>\n",
       "      <td>0.317879</td>\n",
       "    </tr>\n",
       "    <tr>\n",
       "      <th>4</th>\n",
       "      <td>0.354863</td>\n",
       "      <td>0.645137</td>\n",
       "    </tr>\n",
       "    <tr>\n",
       "      <th>...</th>\n",
       "      <td>...</td>\n",
       "      <td>...</td>\n",
       "    </tr>\n",
       "    <tr>\n",
       "      <th>1995</th>\n",
       "      <td>0.013262</td>\n",
       "      <td>0.986738</td>\n",
       "    </tr>\n",
       "    <tr>\n",
       "      <th>1996</th>\n",
       "      <td>0.243968</td>\n",
       "      <td>0.756032</td>\n",
       "    </tr>\n",
       "    <tr>\n",
       "      <th>1997</th>\n",
       "      <td>0.766918</td>\n",
       "      <td>0.233082</td>\n",
       "    </tr>\n",
       "    <tr>\n",
       "      <th>1998</th>\n",
       "      <td>0.031605</td>\n",
       "      <td>0.968395</td>\n",
       "    </tr>\n",
       "    <tr>\n",
       "      <th>1999</th>\n",
       "      <td>0.054670</td>\n",
       "      <td>0.945330</td>\n",
       "    </tr>\n",
       "  </tbody>\n",
       "</table>\n",
       "<p>2000 rows × 2 columns</p>\n",
       "</div>"
      ],
      "text/plain": [
       "      Pred_Prob0  Pred_prob1\n",
       "0       0.715394    0.284606\n",
       "1       0.999896    0.000104\n",
       "2       0.954245    0.045755\n",
       "3       0.682121    0.317879\n",
       "4       0.354863    0.645137\n",
       "...          ...         ...\n",
       "1995    0.013262    0.986738\n",
       "1996    0.243968    0.756032\n",
       "1997    0.766918    0.233082\n",
       "1998    0.031605    0.968395\n",
       "1999    0.054670    0.945330\n",
       "\n",
       "[2000 rows x 2 columns]"
      ]
     },
     "execution_count": 49,
     "metadata": {},
     "output_type": "execute_result"
    }
   ],
   "source": [
    "pred_prob_test = pd.DataFrame(pred_prob_test)\n",
    "\n",
    "pred_prob_test.rename(columns ={pred_prob_test.columns[0]: \"Pred_Prob0\" , \n",
    "                                pred_prob_test.columns[1]: \"Pred_prob1\"} , inplace = True)\n",
    "pred_prob_test"
   ]
  },
  {
   "cell_type": "code",
   "execution_count": 50,
   "id": "def75f23",
   "metadata": {},
   "outputs": [],
   "source": [
    "from sklearn.metrics import  roc_curve , roc_auc_score"
   ]
  },
  {
   "cell_type": "code",
   "execution_count": 51,
   "id": "402bdee0",
   "metadata": {},
   "outputs": [],
   "source": [
    "fpr , tpr , thershold = roc_curve(y_test , pred_prob_test.iloc[: , 1] ) "
   ]
  },
  {
   "cell_type": "code",
   "execution_count": 52,
   "id": "7dc3f44c",
   "metadata": {},
   "outputs": [
    {
     "name": "stdout",
     "output_type": "stream",
     "text": [
      "AUROC CURVE =  0.855\n"
     ]
    }
   ],
   "source": [
    "area_auroc = roc_auc_score(y_test , pred_log)\n",
    "area_auroc_ = np.round(area_auroc , 3)\n",
    "print('AUROC CURVE = ' , area_auroc_ )"
   ]
  },
  {
   "cell_type": "code",
   "execution_count": 53,
   "id": "c78b4fb3",
   "metadata": {},
   "outputs": [
    {
     "data": {
      "image/png": "[encoded data removed]",
      "text/plain": [
       "<Figure size 432x288 with 1 Axes>"
      ]
     },
     "metadata": {
      "needs_background": "light"
     },
     "output_type": "display_data"
    }
   ],
   "source": [
    "plt.plot(fpr , tpr , color = \"r\")\n",
    "plt.xlabel(\"FPr\")\n",
    "plt.ylabel(\"TPr\")\n",
    "plt.title(\"AUROC on amazonreviews.tsv data\")\n",
    "plt.text(x = 0.5 , y = 0.5, s = area_auroc_ , size = 20)\n",
    "plt.grid()"
   ]
  },
  {
   "cell_type": "code",
   "execution_count": null,
   "id": "b44196e2",
   "metadata": {},
   "outputs": [],
   "source": []
  },
  {
   "cell_type": "markdown",
   "id": "c86146ac",
   "metadata": {},
   "source": [
    "# 2) Decision Tree"
   ]
  },
  {
   "cell_type": "markdown",
   "id": "ea4022f5",
   "metadata": {},
   "source": [
    "# Grid search"
   ]
  },
  {
   "cell_type": "code",
   "execution_count": 54,
   "id": "1db200e7",
   "metadata": {},
   "outputs": [],
   "source": [
    "from sklearn.model_selection import GridSearchCV"
   ]
  },
  {
   "cell_type": "code",
   "execution_count": 55,
   "id": "20f03cf6",
   "metadata": {},
   "outputs": [],
   "source": [
    "from sklearn.tree import DecisionTreeClassifier\n",
    "dtc = DecisionTreeClassifier()"
   ]
  },
  {
   "cell_type": "code",
   "execution_count": 56,
   "id": "48a05ffc",
   "metadata": {
    "scrolled": true
   },
   "outputs": [],
   "source": [
    "search_dict = {\"criterion\" : ('entropy' , 'gini'),\n",
    "              \"max_depth\" : ( 3,4,5,6,7,8,9 ,10, 12),\n",
    "              \"min_samples_split\": (25, 50 , 75, 100 ,150,200)}"
   ]
  },
  {
   "cell_type": "code",
   "execution_count": 57,
   "id": "234827a5",
   "metadata": {},
   "outputs": [],
   "source": [
    "grid_dt = GridSearchCV(dtc , param_grid= search_dict)"
   ]
  },
  {
   "cell_type": "code",
   "execution_count": 58,
   "id": "5729eead",
   "metadata": {},
   "outputs": [
    {
     "data": {
      "text/plain": [
       "GridSearchCV(estimator=DecisionTreeClassifier(),\n",
       "             param_grid={'criterion': ('entropy', 'gini'),\n",
       "                         'max_depth': (3, 4, 5, 6, 7, 8, 9, 10, 12),\n",
       "                         'min_samples_split': (25, 50, 75, 100, 150, 200)})"
      ]
     },
     "execution_count": 58,
     "metadata": {},
     "output_type": "execute_result"
    }
   ],
   "source": [
    "grid_dt.fit(x_train, y_train)"
   ]
  },
  {
   "cell_type": "code",
   "execution_count": 59,
   "id": "de2bac27",
   "metadata": {},
   "outputs": [
    {
     "data": {
      "text/plain": [
       "{'criterion': 'gini', 'max_depth': 12, 'min_samples_split': 200}"
      ]
     },
     "execution_count": 59,
     "metadata": {},
     "output_type": "execute_result"
    }
   ],
   "source": [
    "grid_dt.best_params_"
   ]
  },
  {
   "cell_type": "markdown",
   "id": "1222b795",
   "metadata": {},
   "source": [
    "# DT by using Grid search"
   ]
  },
  {
   "cell_type": "code",
   "execution_count": 62,
   "id": "34732757",
   "metadata": {},
   "outputs": [],
   "source": [
    "from sklearn.tree import DecisionTreeClassifier\n",
    "dtc = DecisionTreeClassifier(criterion=\"gini\" , max_depth = 12 , min_samples_split=200 , class_weight=\"balanced\" )"
   ]
  },
  {
   "cell_type": "code",
   "execution_count": 63,
   "id": "c375e285",
   "metadata": {},
   "outputs": [
    {
     "data": {
      "text/plain": [
       "DecisionTreeClassifier(class_weight='balanced', max_depth=12,\n",
       "                       min_samples_split=200)"
      ]
     },
     "execution_count": 63,
     "metadata": {},
     "output_type": "execute_result"
    }
   ],
   "source": [
    "dtc.fit(x_train , y_train)"
   ]
  },
  {
   "cell_type": "code",
   "execution_count": 64,
   "id": "5965eced",
   "metadata": {},
   "outputs": [
    {
     "data": {
      "text/plain": [
       "array([0, 0, 0, ..., 0, 1, 1], dtype=int64)"
      ]
     },
     "execution_count": 64,
     "metadata": {},
     "output_type": "execute_result"
    }
   ],
   "source": [
    "pred_dtc = dtc.predict(x_test)\n",
    "pred_dtc"
   ]
  },
  {
   "cell_type": "code",
   "execution_count": 65,
   "id": "ebd8ba99",
   "metadata": {},
   "outputs": [
    {
     "data": {
      "text/plain": [
       "array([[785, 383],\n",
       "       [230, 602]], dtype=int64)"
      ]
     },
     "execution_count": 65,
     "metadata": {},
     "output_type": "execute_result"
    }
   ],
   "source": [
    "tab_dtc = confusion_matrix(pred_dtc , y_test)\n",
    "tab_dtc"
   ]
  },
  {
   "cell_type": "code",
   "execution_count": 66,
   "id": "83a27f4c",
   "metadata": {
    "scrolled": false
   },
   "outputs": [
    {
     "name": "stdout",
     "output_type": "stream",
     "text": [
      "              precision    recall  f1-score   support\n",
      "\n",
      "           0       0.67      0.77      0.72      1015\n",
      "           1       0.72      0.61      0.66       985\n",
      "\n",
      "    accuracy                           0.69      2000\n",
      "   macro avg       0.70      0.69      0.69      2000\n",
      "weighted avg       0.70      0.69      0.69      2000\n",
      "\n"
     ]
    }
   ],
   "source": [
    "print(classification_report( y_test , pred_dtc))"
   ]
  },
  {
   "cell_type": "code",
   "execution_count": null,
   "id": "32062268",
   "metadata": {},
   "outputs": [],
   "source": []
  },
  {
   "cell_type": "markdown",
   "id": "10bf8ff9",
   "metadata": {},
   "source": [
    "# 3) DT with ADA-BOOST"
   ]
  },
  {
   "cell_type": "code",
   "execution_count": 67,
   "id": "013a6284",
   "metadata": {},
   "outputs": [],
   "source": [
    "from sklearn.ensemble import AdaBoostClassifier\n",
    "abc_dtc = AdaBoostClassifier(dtc , n_estimators=25)"
   ]
  },
  {
   "cell_type": "code",
   "execution_count": 68,
   "id": "cacc2823",
   "metadata": {},
   "outputs": [
    {
     "data": {
      "text/plain": [
       "AdaBoostClassifier(base_estimator=DecisionTreeClassifier(class_weight='balanced',\n",
       "                                                         max_depth=12,\n",
       "                                                         min_samples_split=200),\n",
       "                   n_estimators=25)"
      ]
     },
     "execution_count": 68,
     "metadata": {},
     "output_type": "execute_result"
    }
   ],
   "source": [
    "abc_dtc.fit(x_train , y_train)"
   ]
  },
  {
   "cell_type": "code",
   "execution_count": 69,
   "id": "390e2196",
   "metadata": {},
   "outputs": [
    {
     "data": {
      "text/plain": [
       "array([0, 0, 0, ..., 0, 0, 1], dtype=int64)"
      ]
     },
     "execution_count": 69,
     "metadata": {},
     "output_type": "execute_result"
    }
   ],
   "source": [
    "pred_dtc_boost = abc_dtc.predict(x_test)\n",
    "pred_dtc_boost"
   ]
  },
  {
   "cell_type": "code",
   "execution_count": 70,
   "id": "ab124404",
   "metadata": {},
   "outputs": [
    {
     "data": {
      "text/plain": [
       "array([[810, 186],\n",
       "       [205, 799]], dtype=int64)"
      ]
     },
     "execution_count": 70,
     "metadata": {},
     "output_type": "execute_result"
    }
   ],
   "source": [
    "tab_dtc_boost = confusion_matrix(pred_dtc_boost , y_test)\n",
    "tab_dtc_boost "
   ]
  },
  {
   "cell_type": "code",
   "execution_count": 71,
   "id": "1bf2a70b",
   "metadata": {},
   "outputs": [
    {
     "name": "stdout",
     "output_type": "stream",
     "text": [
      "              precision    recall  f1-score   support\n",
      "\n",
      "           0       0.81      0.80      0.81      1015\n",
      "           1       0.80      0.81      0.80       985\n",
      "\n",
      "    accuracy                           0.80      2000\n",
      "   macro avg       0.80      0.80      0.80      2000\n",
      "weighted avg       0.80      0.80      0.80      2000\n",
      "\n"
     ]
    }
   ],
   "source": [
    "print(classification_report( y_test , pred_dtc_boost)) "
   ]
  },
  {
   "cell_type": "code",
   "execution_count": null,
   "id": "c972170e",
   "metadata": {},
   "outputs": [],
   "source": []
  },
  {
   "cell_type": "markdown",
   "id": "0a3fbef4",
   "metadata": {},
   "source": [
    "# 4) Random Tree"
   ]
  },
  {
   "cell_type": "code",
   "execution_count": 72,
   "id": "cb4f43a9",
   "metadata": {},
   "outputs": [],
   "source": [
    "from sklearn.ensemble import RandomForestClassifier\n",
    "rf = RandomForestClassifier()"
   ]
  },
  {
   "cell_type": "code",
   "execution_count": 73,
   "id": "968d46fa",
   "metadata": {},
   "outputs": [],
   "source": [
    "search_rf = {\"criterion\" : ('entropy' , 'gini'),\n",
    "              \"max_depth\" : (3,4,5,6,7),\n",
    "              \"n_estimators\": (25,50, 100 , 150, 200)}"
   ]
  },
  {
   "cell_type": "code",
   "execution_count": 74,
   "id": "4d0a5ba6",
   "metadata": {},
   "outputs": [],
   "source": [
    "grid_rf = GridSearchCV(rf , param_grid= search_rf)"
   ]
  },
  {
   "cell_type": "code",
   "execution_count": 75,
   "id": "13592c8d",
   "metadata": {},
   "outputs": [
    {
     "data": {
      "text/plain": [
       "GridSearchCV(estimator=RandomForestClassifier(),\n",
       "             param_grid={'criterion': ('entropy', 'gini'),\n",
       "                         'max_depth': (3, 4, 5, 6, 7),\n",
       "                         'n_estimators': (25, 50, 100, 150, 200)})"
      ]
     },
     "execution_count": 75,
     "metadata": {},
     "output_type": "execute_result"
    }
   ],
   "source": [
    "grid_rf.fit(x_train , y_train)"
   ]
  },
  {
   "cell_type": "code",
   "execution_count": 76,
   "id": "80606eba",
   "metadata": {},
   "outputs": [
    {
     "data": {
      "text/plain": [
       "{'criterion': 'entropy', 'max_depth': 7, 'n_estimators': 200}"
      ]
     },
     "execution_count": 76,
     "metadata": {},
     "output_type": "execute_result"
    }
   ],
   "source": [
    "grid_rf.best_params_"
   ]
  },
  {
   "cell_type": "markdown",
   "id": "1aab5fa1",
   "metadata": {},
   "source": [
    "# RF by using Grid search"
   ]
  },
  {
   "cell_type": "code",
   "execution_count": 77,
   "id": "46563a84",
   "metadata": {},
   "outputs": [],
   "source": [
    "from sklearn.ensemble import RandomForestClassifier\n",
    "rf = RandomForestClassifier(criterion= 'entropy', max_depth= 7 , n_estimators= 200 , class_weight=\"balanced\")"
   ]
  },
  {
   "cell_type": "code",
   "execution_count": 78,
   "id": "60a0b632",
   "metadata": {},
   "outputs": [
    {
     "data": {
      "text/plain": [
       "RandomForestClassifier(class_weight='balanced', criterion='entropy',\n",
       "                       max_depth=7, n_estimators=200)"
      ]
     },
     "execution_count": 78,
     "metadata": {},
     "output_type": "execute_result"
    }
   ],
   "source": [
    "rf.fit(x_train , y_train)"
   ]
  },
  {
   "cell_type": "code",
   "execution_count": 79,
   "id": "d9473aed",
   "metadata": {},
   "outputs": [
    {
     "data": {
      "text/plain": [
       "array([1, 0, 0, ..., 1, 0, 1], dtype=int64)"
      ]
     },
     "execution_count": 79,
     "metadata": {},
     "output_type": "execute_result"
    }
   ],
   "source": [
    "pred_rfc = rf.predict(x_test)\n",
    "pred_rfc"
   ]
  },
  {
   "cell_type": "code",
   "execution_count": 80,
   "id": "71709b4e",
   "metadata": {},
   "outputs": [
    {
     "data": {
      "text/plain": [
       "array([[758, 106],\n",
       "       [257, 879]], dtype=int64)"
      ]
     },
     "execution_count": 80,
     "metadata": {},
     "output_type": "execute_result"
    }
   ],
   "source": [
    "tab_rfc = confusion_matrix(pred_rfc , y_test)\n",
    "tab_rfc"
   ]
  },
  {
   "cell_type": "code",
   "execution_count": 81,
   "id": "4182ad94",
   "metadata": {},
   "outputs": [
    {
     "name": "stdout",
     "output_type": "stream",
     "text": [
      "              precision    recall  f1-score   support\n",
      "\n",
      "           0       0.88      0.75      0.81      1015\n",
      "           1       0.77      0.89      0.83       985\n",
      "\n",
      "    accuracy                           0.82      2000\n",
      "   macro avg       0.83      0.82      0.82      2000\n",
      "weighted avg       0.83      0.82      0.82      2000\n",
      "\n"
     ]
    }
   ],
   "source": [
    "print(classification_report( y_test , pred_rfc))  "
   ]
  },
  {
   "cell_type": "code",
   "execution_count": null,
   "id": "8fc3d22a",
   "metadata": {},
   "outputs": [],
   "source": []
  },
  {
   "cell_type": "markdown",
   "id": "4e6ad336",
   "metadata": {},
   "source": [
    "# 5) RF with ADA-BOOST"
   ]
  },
  {
   "cell_type": "code",
   "execution_count": 82,
   "id": "c2d8adcf",
   "metadata": {},
   "outputs": [],
   "source": [
    "from sklearn.ensemble import AdaBoostClassifier\n",
    "abc_rfc = AdaBoostClassifier(rf)"
   ]
  },
  {
   "cell_type": "code",
   "execution_count": 83,
   "id": "74eb7e1a",
   "metadata": {},
   "outputs": [
    {
     "data": {
      "text/plain": [
       "AdaBoostClassifier(base_estimator=RandomForestClassifier(class_weight='balanced',\n",
       "                                                         criterion='entropy',\n",
       "                                                         max_depth=7,\n",
       "                                                         n_estimators=200))"
      ]
     },
     "execution_count": 83,
     "metadata": {},
     "output_type": "execute_result"
    }
   ],
   "source": [
    "abc_rfc.fit(x_train , y_train)"
   ]
  },
  {
   "cell_type": "code",
   "execution_count": 84,
   "id": "d9ebac0e",
   "metadata": {},
   "outputs": [
    {
     "data": {
      "text/plain": [
       "array([0, 0, 0, ..., 1, 1, 1], dtype=int64)"
      ]
     },
     "execution_count": 84,
     "metadata": {},
     "output_type": "execute_result"
    }
   ],
   "source": [
    "pred_rfc_boost = abc_rfc.predict(x_test)\n",
    "pred_rfc_boost"
   ]
  },
  {
   "cell_type": "code",
   "execution_count": 85,
   "id": "fc5b08a1",
   "metadata": {},
   "outputs": [
    {
     "data": {
      "text/plain": [
       "array([[860, 123],\n",
       "       [155, 862]], dtype=int64)"
      ]
     },
     "execution_count": 85,
     "metadata": {},
     "output_type": "execute_result"
    }
   ],
   "source": [
    "tab_rfc_boost = confusion_matrix(pred_rfc_boost , y_test)\n",
    "tab_rfc_boost"
   ]
  },
  {
   "cell_type": "code",
   "execution_count": 86,
   "id": "a06e7a2e",
   "metadata": {},
   "outputs": [
    {
     "name": "stdout",
     "output_type": "stream",
     "text": [
      "              precision    recall  f1-score   support\n",
      "\n",
      "           0       0.87      0.85      0.86      1015\n",
      "           1       0.85      0.88      0.86       985\n",
      "\n",
      "    accuracy                           0.86      2000\n",
      "   macro avg       0.86      0.86      0.86      2000\n",
      "weighted avg       0.86      0.86      0.86      2000\n",
      "\n"
     ]
    }
   ],
   "source": [
    "print(classification_report( y_test , pred_rfc_boost))"
   ]
  },
  {
   "cell_type": "code",
   "execution_count": null,
   "id": "45edb731",
   "metadata": {},
   "outputs": [],
   "source": []
  },
  {
   "cell_type": "markdown",
   "id": "1326f37d",
   "metadata": {},
   "source": [
    "# 6) Naive Bayes"
   ]
  },
  {
   "cell_type": "code",
   "execution_count": 89,
   "id": "d1fa6252",
   "metadata": {},
   "outputs": [],
   "source": [
    "from sklearn.naive_bayes import MultinomialNB\n",
    "naive_bays = MultinomialNB()"
   ]
  },
  {
   "cell_type": "code",
   "execution_count": 90,
   "id": "1f0442d1",
   "metadata": {},
   "outputs": [],
   "source": [
    "nb = naive_bays.fit(x_train , y_train)"
   ]
  },
  {
   "cell_type": "code",
   "execution_count": 91,
   "id": "246d008b",
   "metadata": {},
   "outputs": [
    {
     "data": {
      "text/plain": [
       "array([0, 0, 0, ..., 1, 1, 1], dtype=int64)"
      ]
     },
     "execution_count": 91,
     "metadata": {},
     "output_type": "execute_result"
    }
   ],
   "source": [
    "pred_nb = nb.predict(x_test)\n",
    "pred_nb "
   ]
  },
  {
   "cell_type": "code",
   "execution_count": 92,
   "id": "a02a1403",
   "metadata": {},
   "outputs": [
    {
     "data": {
      "text/plain": [
       "array([[878, 174],\n",
       "       [137, 811]], dtype=int64)"
      ]
     },
     "execution_count": 92,
     "metadata": {},
     "output_type": "execute_result"
    }
   ],
   "source": [
    "tab_nb = confusion_matrix(pred_nb , y_test)\n",
    "tab_nb"
   ]
  },
  {
   "cell_type": "code",
   "execution_count": 93,
   "id": "660b2190",
   "metadata": {},
   "outputs": [
    {
     "name": "stdout",
     "output_type": "stream",
     "text": [
      "              precision    recall  f1-score   support\n",
      "\n",
      "           0       0.83      0.87      0.85      1015\n",
      "           1       0.86      0.82      0.84       985\n",
      "\n",
      "    accuracy                           0.84      2000\n",
      "   macro avg       0.85      0.84      0.84      2000\n",
      "weighted avg       0.84      0.84      0.84      2000\n",
      "\n"
     ]
    }
   ],
   "source": [
    "print(classification_report(y_test , pred_nb))"
   ]
  },
  {
   "cell_type": "code",
   "execution_count": null,
   "id": "34751c00",
   "metadata": {},
   "outputs": [],
   "source": []
  },
  {
   "cell_type": "markdown",
   "id": "543a6831",
   "metadata": {},
   "source": [
    "# 7) KNN "
   ]
  },
  {
   "cell_type": "code",
   "execution_count": 94,
   "id": "47c2b635",
   "metadata": {},
   "outputs": [
    {
     "data": {
      "text/plain": [
       "(10000, 40040)"
      ]
     },
     "execution_count": 94,
     "metadata": {},
     "output_type": "execute_result"
    }
   ],
   "source": [
    "amazon_bow.shape"
   ]
  },
  {
   "cell_type": "code",
   "execution_count": 97,
   "id": "a38ed04a",
   "metadata": {},
   "outputs": [
    {
     "data": {
      "text/plain": [
       "100.0"
      ]
     },
     "execution_count": 97,
     "metadata": {},
     "output_type": "execute_result"
    }
   ],
   "source": [
    "k=np.sqrt(amazon_bow.shape[0])\n",
    "k"
   ]
  },
  {
   "cell_type": "code",
   "execution_count": 98,
   "id": "d1363615",
   "metadata": {},
   "outputs": [],
   "source": [
    "from sklearn.neighbors import KNeighborsClassifier\n",
    "knn = KNeighborsClassifier(n_neighbors= 100)"
   ]
  },
  {
   "cell_type": "code",
   "execution_count": 99,
   "id": "344736e3",
   "metadata": {},
   "outputs": [
    {
     "data": {
      "text/plain": [
       "KNeighborsClassifier(n_neighbors=100)"
      ]
     },
     "execution_count": 99,
     "metadata": {},
     "output_type": "execute_result"
    }
   ],
   "source": [
    "knn.fit(x_train , y_train)"
   ]
  },
  {
   "cell_type": "code",
   "execution_count": 100,
   "id": "6fb0a672",
   "metadata": {},
   "outputs": [
    {
     "data": {
      "text/plain": [
       "array([1, 0, 1, ..., 1, 1, 1], dtype=int64)"
      ]
     },
     "execution_count": 100,
     "metadata": {},
     "output_type": "execute_result"
    }
   ],
   "source": [
    "pred_knn = knn.predict(x_test)\n",
    "pred_knn"
   ]
  },
  {
   "cell_type": "code",
   "execution_count": 101,
   "id": "1faf6ac9",
   "metadata": {},
   "outputs": [
    {
     "data": {
      "text/plain": [
       "array([[258,  33],\n",
       "       [757, 952]], dtype=int64)"
      ]
     },
     "execution_count": 101,
     "metadata": {},
     "output_type": "execute_result"
    }
   ],
   "source": [
    "tab_knn = confusion_matrix(pred_knn , y_test)\n",
    "tab_knn"
   ]
  },
  {
   "cell_type": "code",
   "execution_count": 102,
   "id": "3f1a7be4",
   "metadata": {},
   "outputs": [
    {
     "name": "stdout",
     "output_type": "stream",
     "text": [
      "              precision    recall  f1-score   support\n",
      "\n",
      "           0       0.89      0.25      0.40      1015\n",
      "           1       0.56      0.97      0.71       985\n",
      "\n",
      "    accuracy                           0.60      2000\n",
      "   macro avg       0.72      0.61      0.55      2000\n",
      "weighted avg       0.72      0.60      0.55      2000\n",
      "\n"
     ]
    }
   ],
   "source": [
    "print(classification_report(y_test , pred_knn))"
   ]
  },
  {
   "cell_type": "code",
   "execution_count": null,
   "id": "54cf2c08",
   "metadata": {},
   "outputs": [],
   "source": []
  },
  {
   "cell_type": "markdown",
   "id": "36b01b60",
   "metadata": {},
   "source": [
    "# 8) SVM "
   ]
  },
  {
   "cell_type": "code",
   "execution_count": 109,
   "id": "ea9fbe3e",
   "metadata": {},
   "outputs": [],
   "source": [
    "from sklearn.model_selection import GridSearchCV\n",
    "\n",
    "search_dict = {\"kernel\" : ('linear', 'poly' , 'rbf', 'sigmoid')}\n",
    "\n",
    "from sklearn.svm import SVC\n",
    "svc_model = SVC()\n",
    "\n",
    "grid_svc = GridSearchCV(svc_model , param_grid= search_dict)"
   ]
  },
  {
   "cell_type": "code",
   "execution_count": 110,
   "id": "b5963b66",
   "metadata": {
    "scrolled": true
   },
   "outputs": [
    {
     "data": {
      "text/plain": [
       "GridSearchCV(estimator=SVC(),\n",
       "             param_grid={'kernel': ('linear', 'poly', 'rbf', 'sigmoid')})"
      ]
     },
     "execution_count": 110,
     "metadata": {},
     "output_type": "execute_result"
    }
   ],
   "source": [
    "grid_svc.fit(x_train , y_train)"
   ]
  },
  {
   "cell_type": "code",
   "execution_count": 111,
   "id": "5bf0dec7",
   "metadata": {},
   "outputs": [
    {
     "data": {
      "text/plain": [
       "{'kernel': 'rbf'}"
      ]
     },
     "execution_count": 111,
     "metadata": {},
     "output_type": "execute_result"
    }
   ],
   "source": [
    "grid_svc.best_params_    "
   ]
  },
  {
   "cell_type": "markdown",
   "id": "76212088",
   "metadata": {},
   "source": [
    "# SVM by using Grid Search"
   ]
  },
  {
   "cell_type": "code",
   "execution_count": 112,
   "id": "671a0545",
   "metadata": {},
   "outputs": [],
   "source": [
    "from sklearn.svm import SVC"
   ]
  },
  {
   "cell_type": "code",
   "execution_count": 113,
   "id": "03d8712c",
   "metadata": {},
   "outputs": [],
   "source": [
    "svm_best = SVC(kernel ='rbf')"
   ]
  },
  {
   "cell_type": "code",
   "execution_count": 114,
   "id": "e59e705d",
   "metadata": {},
   "outputs": [
    {
     "data": {
      "text/plain": [
       "SVC()"
      ]
     },
     "execution_count": 114,
     "metadata": {},
     "output_type": "execute_result"
    }
   ],
   "source": [
    "svm_best.fit(x_train , y_train)"
   ]
  },
  {
   "cell_type": "code",
   "execution_count": 115,
   "id": "7e93ca12",
   "metadata": {},
   "outputs": [
    {
     "data": {
      "text/plain": [
       "array([0, 0, 0, ..., 0, 1, 1], dtype=int64)"
      ]
     },
     "execution_count": 115,
     "metadata": {},
     "output_type": "execute_result"
    }
   ],
   "source": [
    "pred_svm = svm_best.predict(x_test)\n",
    "pred_svm"
   ]
  },
  {
   "cell_type": "code",
   "execution_count": 116,
   "id": "a8324b62",
   "metadata": {},
   "outputs": [
    {
     "data": {
      "text/plain": [
       "array([[881, 160],\n",
       "       [134, 825]], dtype=int64)"
      ]
     },
     "execution_count": 116,
     "metadata": {},
     "output_type": "execute_result"
    }
   ],
   "source": [
    "tab_svm = confusion_matrix(pred_svm , y_test)\n",
    "tab_svm "
   ]
  },
  {
   "cell_type": "code",
   "execution_count": 117,
   "id": "dbade9bd",
   "metadata": {
    "scrolled": true
   },
   "outputs": [
    {
     "name": "stdout",
     "output_type": "stream",
     "text": [
      "              precision    recall  f1-score   support\n",
      "\n",
      "           0       0.85      0.87      0.86      1015\n",
      "           1       0.86      0.84      0.85       985\n",
      "\n",
      "    accuracy                           0.85      2000\n",
      "   macro avg       0.85      0.85      0.85      2000\n",
      "weighted avg       0.85      0.85      0.85      2000\n",
      "\n"
     ]
    }
   ],
   "source": [
    "print(classification_report(y_test , pred_svm))"
   ]
  },
  {
   "cell_type": "code",
   "execution_count": null,
   "id": "7289d3b4",
   "metadata": {},
   "outputs": [],
   "source": []
  },
  {
   "cell_type": "code",
   "execution_count": null,
   "id": "f9d0a9b8",
   "metadata": {},
   "outputs": [],
   "source": []
  },
  {
   "cell_type": "markdown",
   "id": "d2f5dee2",
   "metadata": {},
   "source": [
    "# Vader()"
   ]
  },
  {
   "cell_type": "code",
   "execution_count": 3,
   "id": "eb6a0187",
   "metadata": {},
   "outputs": [],
   "source": [
    "amazon= pd.read_csv(r\"D:\\Python\\Python data set lec\\NLP\\amazonreviews.tsv\" , sep='\\t')     "
   ]
  },
  {
   "cell_type": "code",
   "execution_count": 4,
   "id": "e1b748cb",
   "metadata": {},
   "outputs": [],
   "source": [
    "from nltk.sentiment.vader import SentimentIntensityAnalyzer\n",
    "sent = SentimentIntensityAnalyzer()"
   ]
  },
  {
   "cell_type": "code",
   "execution_count": 5,
   "id": "8c78c8c4",
   "metadata": {},
   "outputs": [
    {
     "data": {
      "text/plain": [
       "{'neg': 0.088, 'neu': 0.669, 'pos': 0.243, 'compound': 0.9454}"
      ]
     },
     "execution_count": 5,
     "metadata": {},
     "output_type": "execute_result"
    }
   ],
   "source": [
    "abc = sent.polarity_scores(amazon.iloc[0][1])         # applied on 1st comment\n",
    "abc"
   ]
  },
  {
   "cell_type": "code",
   "execution_count": 6,
   "id": "2ee982df",
   "metadata": {},
   "outputs": [
    {
     "data": {
      "text/plain": [
       "0.9454"
      ]
     },
     "execution_count": 6,
     "metadata": {},
     "output_type": "execute_result"
    }
   ],
   "source": [
    "abc['compound']"
   ]
  },
  {
   "cell_type": "code",
   "execution_count": 7,
   "id": "f58f5eae",
   "metadata": {},
   "outputs": [
    {
     "data": {
      "text/plain": [
       "'Stuning even for the non-gamer: This sound track was beautiful! It paints the senery in your mind so well I would recomend it even to people who hate vid. game music! I have played the game Chrono Cross but out of all of the games I have ever played it has the best music! It backs away from crude keyboarding and takes a fresher step with grate guitars and soulful orchestras. It would impress anyone who cares to listen! ^_^'"
      ]
     },
     "execution_count": 7,
     "metadata": {},
     "output_type": "execute_result"
    }
   ],
   "source": [
    "amazon.iloc[0][1]"
   ]
  },
  {
   "cell_type": "code",
   "execution_count": 8,
   "id": "a37e2e22",
   "metadata": {},
   "outputs": [
    {
     "data": {
      "text/html": [
       "<div>\n",
       "<style scoped>\n",
       "    .dataframe tbody tr th:only-of-type {\n",
       "        vertical-align: middle;\n",
       "    }\n",
       "\n",
       "    .dataframe tbody tr th {\n",
       "        vertical-align: top;\n",
       "    }\n",
       "\n",
       "    .dataframe thead th {\n",
       "        text-align: right;\n",
       "    }\n",
       "</style>\n",
       "<table border=\"1\" class=\"dataframe\">\n",
       "  <thead>\n",
       "    <tr style=\"text-align: right;\">\n",
       "      <th></th>\n",
       "      <th>label</th>\n",
       "      <th>review</th>\n",
       "    </tr>\n",
       "  </thead>\n",
       "  <tbody>\n",
       "    <tr>\n",
       "      <th>0</th>\n",
       "      <td>pos</td>\n",
       "      <td>Stuning even for the non-gamer: This sound tra...</td>\n",
       "    </tr>\n",
       "    <tr>\n",
       "      <th>1</th>\n",
       "      <td>pos</td>\n",
       "      <td>The best soundtrack ever to anything.: I'm rea...</td>\n",
       "    </tr>\n",
       "    <tr>\n",
       "      <th>2</th>\n",
       "      <td>pos</td>\n",
       "      <td>Amazing!: This soundtrack is my favorite music...</td>\n",
       "    </tr>\n",
       "  </tbody>\n",
       "</table>\n",
       "</div>"
      ],
      "text/plain": [
       "  label                                             review\n",
       "0   pos  Stuning even for the non-gamer: This sound tra...\n",
       "1   pos  The best soundtrack ever to anything.: I'm rea...\n",
       "2   pos  Amazing!: This soundtrack is my favorite music..."
      ]
     },
     "execution_count": 8,
     "metadata": {},
     "output_type": "execute_result"
    }
   ],
   "source": [
    "amazon.head(3)"
   ]
  },
  {
   "cell_type": "raw",
   "id": "3415210d",
   "metadata": {},
   "source": [
    "# p.s. -- a product was launched by amazon and few thousand customers have given the feedback\n",
    "# company is interested to find if the overall custmer sentiment is  pos or negative\n",
    "\n",
    "# consider label column is not there with company"
   ]
  },
  {
   "cell_type": "code",
   "execution_count": 10,
   "id": "ec5c25fd",
   "metadata": {},
   "outputs": [],
   "source": [
    "score_com = []\n",
    "score_pos = []\n",
    "score_neg = []\n",
    "\n",
    "for i in range (0,amazon.shape[0]):\n",
    "    score = sent.polarity_scores(amazon.iloc[i][1]) #this [1] is for the 2nd column(review colomun)\n",
    "    score1 = score[\"compound\"]\n",
    "    score_com.append(score1)\n",
    "    # below 2 lines to extract the positive sentimnet\n",
    "    score2 = score['pos']\n",
    "    score_pos.append(score2)\n",
    "\n",
    "    # below 2 lines to extarct the negative sentimnet\n",
    "    \n",
    "    score2 = score[\"neg\"]\n",
    "    score_neg.append(score2)"
   ]
  },
  {
   "cell_type": "code",
   "execution_count": 11,
   "id": "5862cac7",
   "metadata": {},
   "outputs": [
    {
     "data": {
      "text/plain": [
       "0.33520672"
      ]
     },
     "execution_count": 11,
     "metadata": {},
     "output_type": "execute_result"
    }
   ],
   "source": [
    "np.mean(score_com)"
   ]
  },
  {
   "cell_type": "markdown",
   "id": "18103503",
   "metadata": {},
   "source": [
    "# now we create dataframe"
   ]
  },
  {
   "cell_type": "code",
   "execution_count": 12,
   "id": "3bff8f3e",
   "metadata": {},
   "outputs": [],
   "source": [
    "amazon['com_score'] = score_com # adding the new column to the datafram\n",
    "amazon['pos_score'] = score_pos\n",
    "amazon['neg_score'] = score_neg"
   ]
  },
  {
   "cell_type": "code",
   "execution_count": 13,
   "id": "3cb01e67",
   "metadata": {},
   "outputs": [
    {
     "data": {
      "text/html": [
       "<div>\n",
       "<style scoped>\n",
       "    .dataframe tbody tr th:only-of-type {\n",
       "        vertical-align: middle;\n",
       "    }\n",
       "\n",
       "    .dataframe tbody tr th {\n",
       "        vertical-align: top;\n",
       "    }\n",
       "\n",
       "    .dataframe thead th {\n",
       "        text-align: right;\n",
       "    }\n",
       "</style>\n",
       "<table border=\"1\" class=\"dataframe\">\n",
       "  <thead>\n",
       "    <tr style=\"text-align: right;\">\n",
       "      <th></th>\n",
       "      <th>label</th>\n",
       "      <th>review</th>\n",
       "      <th>com_score</th>\n",
       "      <th>pos_score</th>\n",
       "      <th>neg_score</th>\n",
       "    </tr>\n",
       "  </thead>\n",
       "  <tbody>\n",
       "    <tr>\n",
       "      <th>0</th>\n",
       "      <td>pos</td>\n",
       "      <td>Stuning even for the non-gamer: This sound tra...</td>\n",
       "      <td>0.9454</td>\n",
       "      <td>0.243</td>\n",
       "      <td>0.088</td>\n",
       "    </tr>\n",
       "    <tr>\n",
       "      <th>1</th>\n",
       "      <td>pos</td>\n",
       "      <td>The best soundtrack ever to anything.: I'm rea...</td>\n",
       "      <td>0.8957</td>\n",
       "      <td>0.145</td>\n",
       "      <td>0.018</td>\n",
       "    </tr>\n",
       "    <tr>\n",
       "      <th>2</th>\n",
       "      <td>pos</td>\n",
       "      <td>Amazing!: This soundtrack is my favorite music...</td>\n",
       "      <td>0.9858</td>\n",
       "      <td>0.268</td>\n",
       "      <td>0.040</td>\n",
       "    </tr>\n",
       "    <tr>\n",
       "      <th>3</th>\n",
       "      <td>pos</td>\n",
       "      <td>Excellent Soundtrack: I truly like this soundt...</td>\n",
       "      <td>0.9814</td>\n",
       "      <td>0.295</td>\n",
       "      <td>0.090</td>\n",
       "    </tr>\n",
       "    <tr>\n",
       "      <th>4</th>\n",
       "      <td>pos</td>\n",
       "      <td>Remember, Pull Your Jaw Off The Floor After He...</td>\n",
       "      <td>0.9781</td>\n",
       "      <td>0.254</td>\n",
       "      <td>0.000</td>\n",
       "    </tr>\n",
       "  </tbody>\n",
       "</table>\n",
       "</div>"
      ],
      "text/plain": [
       "  label                                             review  com_score  \\\n",
       "0   pos  Stuning even for the non-gamer: This sound tra...     0.9454   \n",
       "1   pos  The best soundtrack ever to anything.: I'm rea...     0.8957   \n",
       "2   pos  Amazing!: This soundtrack is my favorite music...     0.9858   \n",
       "3   pos  Excellent Soundtrack: I truly like this soundt...     0.9814   \n",
       "4   pos  Remember, Pull Your Jaw Off The Floor After He...     0.9781   \n",
       "\n",
       "   pos_score  neg_score  \n",
       "0      0.243      0.088  \n",
       "1      0.145      0.018  \n",
       "2      0.268      0.040  \n",
       "3      0.295      0.090  \n",
       "4      0.254      0.000  "
      ]
     },
     "execution_count": 13,
     "metadata": {},
     "output_type": "execute_result"
    }
   ],
   "source": [
    "amazon.head()"
   ]
  },
  {
   "cell_type": "code",
   "execution_count": 14,
   "id": "815ee17f",
   "metadata": {},
   "outputs": [
    {
     "data": {
      "text/plain": [
       "0.3352067199999999"
      ]
     },
     "execution_count": 14,
     "metadata": {},
     "output_type": "execute_result"
    }
   ],
   "source": [
    "amazon['com_score'].mean()"
   ]
  },
  {
   "cell_type": "code",
   "execution_count": 15,
   "id": "c63b2f2d",
   "metadata": {},
   "outputs": [
    {
     "data": {
      "text/plain": [
       "0.15151900000000001"
      ]
     },
     "execution_count": 15,
     "metadata": {},
     "output_type": "execute_result"
    }
   ],
   "source": [
    "amazon['pos_score'].mean()"
   ]
  },
  {
   "cell_type": "code",
   "execution_count": 16,
   "id": "c5f15a4d",
   "metadata": {},
   "outputs": [
    {
     "data": {
      "text/plain": [
       "0.07635639999999992"
      ]
     },
     "execution_count": 16,
     "metadata": {},
     "output_type": "execute_result"
    }
   ],
   "source": [
    "amazon['neg_score'].mean()"
   ]
  },
  {
   "cell_type": "code",
   "execution_count": 17,
   "id": "9999b9fa",
   "metadata": {},
   "outputs": [
    {
     "data": {
      "text/html": [
       "<div>\n",
       "<style scoped>\n",
       "    .dataframe tbody tr th:only-of-type {\n",
       "        vertical-align: middle;\n",
       "    }\n",
       "\n",
       "    .dataframe tbody tr th {\n",
       "        vertical-align: top;\n",
       "    }\n",
       "\n",
       "    .dataframe thead th {\n",
       "        text-align: right;\n",
       "    }\n",
       "</style>\n",
       "<table border=\"1\" class=\"dataframe\">\n",
       "  <thead>\n",
       "    <tr style=\"text-align: right;\">\n",
       "      <th></th>\n",
       "      <th>label</th>\n",
       "      <th>review</th>\n",
       "      <th>com_score</th>\n",
       "      <th>pos_score</th>\n",
       "      <th>neg_score</th>\n",
       "    </tr>\n",
       "  </thead>\n",
       "  <tbody>\n",
       "    <tr>\n",
       "      <th>6</th>\n",
       "      <td>neg</td>\n",
       "      <td>Buyer beware: This is a self-published book, a...</td>\n",
       "      <td>-0.8744</td>\n",
       "      <td>0.069</td>\n",
       "      <td>0.124</td>\n",
       "    </tr>\n",
       "    <tr>\n",
       "      <th>10</th>\n",
       "      <td>neg</td>\n",
       "      <td>The Worst!: A complete waste of time. Typograp...</td>\n",
       "      <td>-0.9274</td>\n",
       "      <td>0.054</td>\n",
       "      <td>0.360</td>\n",
       "    </tr>\n",
       "    <tr>\n",
       "      <th>13</th>\n",
       "      <td>neg</td>\n",
       "      <td>Oh please: I guess you have to be a romance no...</td>\n",
       "      <td>0.9097</td>\n",
       "      <td>0.199</td>\n",
       "      <td>0.077</td>\n",
       "    </tr>\n",
       "    <tr>\n",
       "      <th>14</th>\n",
       "      <td>neg</td>\n",
       "      <td>Awful beyond belief!: I feel I have to write t...</td>\n",
       "      <td>-0.9312</td>\n",
       "      <td>0.074</td>\n",
       "      <td>0.171</td>\n",
       "    </tr>\n",
       "    <tr>\n",
       "      <th>15</th>\n",
       "      <td>neg</td>\n",
       "      <td>Don't try to fool us with fake reviews.: It's ...</td>\n",
       "      <td>-0.5414</td>\n",
       "      <td>0.063</td>\n",
       "      <td>0.105</td>\n",
       "    </tr>\n",
       "    <tr>\n",
       "      <th>19</th>\n",
       "      <td>neg</td>\n",
       "      <td>sizes recomended in the size chart are not rea...</td>\n",
       "      <td>0.4926</td>\n",
       "      <td>0.065</td>\n",
       "      <td>0.000</td>\n",
       "    </tr>\n",
       "    <tr>\n",
       "      <th>20</th>\n",
       "      <td>neg</td>\n",
       "      <td>mens ultrasheer: This model may be ok for sede...</td>\n",
       "      <td>0.6318</td>\n",
       "      <td>0.170</td>\n",
       "      <td>0.134</td>\n",
       "    </tr>\n",
       "    <tr>\n",
       "      <th>22</th>\n",
       "      <td>neg</td>\n",
       "      <td>Another Abysmal Digital Copy: Rather than scra...</td>\n",
       "      <td>0.9667</td>\n",
       "      <td>0.145</td>\n",
       "      <td>0.037</td>\n",
       "    </tr>\n",
       "    <tr>\n",
       "      <th>25</th>\n",
       "      <td>neg</td>\n",
       "      <td>Problem with charging smaller AAAs: I have had...</td>\n",
       "      <td>-0.7845</td>\n",
       "      <td>0.090</td>\n",
       "      <td>0.149</td>\n",
       "    </tr>\n",
       "    <tr>\n",
       "      <th>26</th>\n",
       "      <td>neg</td>\n",
       "      <td>Works, but not as advertised: I bought one of ...</td>\n",
       "      <td>-0.0857</td>\n",
       "      <td>0.080</td>\n",
       "      <td>0.092</td>\n",
       "    </tr>\n",
       "  </tbody>\n",
       "</table>\n",
       "</div>"
      ],
      "text/plain": [
       "   label                                             review  com_score  \\\n",
       "6    neg  Buyer beware: This is a self-published book, a...    -0.8744   \n",
       "10   neg  The Worst!: A complete waste of time. Typograp...    -0.9274   \n",
       "13   neg  Oh please: I guess you have to be a romance no...     0.9097   \n",
       "14   neg  Awful beyond belief!: I feel I have to write t...    -0.9312   \n",
       "15   neg  Don't try to fool us with fake reviews.: It's ...    -0.5414   \n",
       "19   neg  sizes recomended in the size chart are not rea...     0.4926   \n",
       "20   neg  mens ultrasheer: This model may be ok for sede...     0.6318   \n",
       "22   neg  Another Abysmal Digital Copy: Rather than scra...     0.9667   \n",
       "25   neg  Problem with charging smaller AAAs: I have had...    -0.7845   \n",
       "26   neg  Works, but not as advertised: I bought one of ...    -0.0857   \n",
       "\n",
       "    pos_score  neg_score  \n",
       "6       0.069      0.124  \n",
       "10      0.054      0.360  \n",
       "13      0.199      0.077  \n",
       "14      0.074      0.171  \n",
       "15      0.063      0.105  \n",
       "19      0.065      0.000  \n",
       "20      0.170      0.134  \n",
       "22      0.145      0.037  \n",
       "25      0.090      0.149  \n",
       "26      0.080      0.092  "
      ]
     },
     "execution_count": 17,
     "metadata": {},
     "output_type": "execute_result"
    }
   ],
   "source": [
    "amazon[amazon.label == \"neg\"].head(10)          # to do mannual analysis"
   ]
  },
  {
   "cell_type": "code",
   "execution_count": null,
   "id": "55ecc883",
   "metadata": {},
   "outputs": [],
   "source": []
  },
  {
   "cell_type": "code",
   "execution_count": null,
   "id": "dfd00628",
   "metadata": {},
   "outputs": [],
   "source": []
  },
  {
   "cell_type": "markdown",
   "id": "f02317f7",
   "metadata": {},
   "source": [
    "# Text Blob"
   ]
  },
  {
   "cell_type": "code",
   "execution_count": 18,
   "id": "f4b8b53a",
   "metadata": {},
   "outputs": [],
   "source": [
    "amazon= pd.read_csv(r\"D:\\Python\\Python data set lec\\NLP\\amazonreviews.tsv\" , sep='\\t')     "
   ]
  },
  {
   "cell_type": "code",
   "execution_count": 19,
   "id": "c0a900eb",
   "metadata": {},
   "outputs": [],
   "source": [
    "from textblob import TextBlob"
   ]
  },
  {
   "cell_type": "code",
   "execution_count": 20,
   "id": "2812e557",
   "metadata": {},
   "outputs": [],
   "source": [
    "polarity_score=[]\n",
    "\n",
    "for i in range(0,amazon.shape[0]):\n",
    "    score= TextBlob(amazon.iloc[i][1])\n",
    "    score1 = score.sentiment[0]      # it will fetch the polarity \n",
    "    polarity_score.append(score1)"
   ]
  },
  {
   "cell_type": "code",
   "execution_count": 21,
   "id": "b8b1de28",
   "metadata": {
    "scrolled": false
   },
   "outputs": [
    {
     "data": {
      "text/html": [
       "<div>\n",
       "<style scoped>\n",
       "    .dataframe tbody tr th:only-of-type {\n",
       "        vertical-align: middle;\n",
       "    }\n",
       "\n",
       "    .dataframe tbody tr th {\n",
       "        vertical-align: top;\n",
       "    }\n",
       "\n",
       "    .dataframe thead th {\n",
       "        text-align: right;\n",
       "    }\n",
       "</style>\n",
       "<table border=\"1\" class=\"dataframe\">\n",
       "  <thead>\n",
       "    <tr style=\"text-align: right;\">\n",
       "      <th></th>\n",
       "      <th>label</th>\n",
       "      <th>review</th>\n",
       "      <th>0</th>\n",
       "    </tr>\n",
       "  </thead>\n",
       "  <tbody>\n",
       "    <tr>\n",
       "      <th>0</th>\n",
       "      <td>pos</td>\n",
       "      <td>Stuning even for the non-gamer: This sound tra...</td>\n",
       "      <td>-0.021875</td>\n",
       "    </tr>\n",
       "    <tr>\n",
       "      <th>1</th>\n",
       "      <td>pos</td>\n",
       "      <td>The best soundtrack ever to anything.: I'm rea...</td>\n",
       "      <td>0.261111</td>\n",
       "    </tr>\n",
       "    <tr>\n",
       "      <th>2</th>\n",
       "      <td>pos</td>\n",
       "      <td>Amazing!: This soundtrack is my favorite music...</td>\n",
       "      <td>0.274691</td>\n",
       "    </tr>\n",
       "    <tr>\n",
       "      <th>3</th>\n",
       "      <td>pos</td>\n",
       "      <td>Excellent Soundtrack: I truly like this soundt...</td>\n",
       "      <td>0.272727</td>\n",
       "    </tr>\n",
       "    <tr>\n",
       "      <th>4</th>\n",
       "      <td>pos</td>\n",
       "      <td>Remember, Pull Your Jaw Off The Floor After He...</td>\n",
       "      <td>0.324802</td>\n",
       "    </tr>\n",
       "    <tr>\n",
       "      <th>...</th>\n",
       "      <td>...</td>\n",
       "      <td>...</td>\n",
       "      <td>...</td>\n",
       "    </tr>\n",
       "    <tr>\n",
       "      <th>9995</th>\n",
       "      <td>pos</td>\n",
       "      <td>A revelation of life in small town America in ...</td>\n",
       "      <td>0.216146</td>\n",
       "    </tr>\n",
       "    <tr>\n",
       "      <th>9996</th>\n",
       "      <td>pos</td>\n",
       "      <td>Great biography of a very interesting journali...</td>\n",
       "      <td>0.282051</td>\n",
       "    </tr>\n",
       "    <tr>\n",
       "      <th>9997</th>\n",
       "      <td>neg</td>\n",
       "      <td>Interesting Subject; Poor Presentation: You'd ...</td>\n",
       "      <td>-0.019048</td>\n",
       "    </tr>\n",
       "    <tr>\n",
       "      <th>9998</th>\n",
       "      <td>neg</td>\n",
       "      <td>Don't buy: The box looked used and it is obvio...</td>\n",
       "      <td>-0.085227</td>\n",
       "    </tr>\n",
       "    <tr>\n",
       "      <th>9999</th>\n",
       "      <td>pos</td>\n",
       "      <td>Beautiful Pen and Fast Delivery.: The pen was ...</td>\n",
       "      <td>0.371429</td>\n",
       "    </tr>\n",
       "  </tbody>\n",
       "</table>\n",
       "<p>10000 rows × 3 columns</p>\n",
       "</div>"
      ],
      "text/plain": [
       "     label                                             review         0\n",
       "0      pos  Stuning even for the non-gamer: This sound tra... -0.021875\n",
       "1      pos  The best soundtrack ever to anything.: I'm rea...  0.261111\n",
       "2      pos  Amazing!: This soundtrack is my favorite music...  0.274691\n",
       "3      pos  Excellent Soundtrack: I truly like this soundt...  0.272727\n",
       "4      pos  Remember, Pull Your Jaw Off The Floor After He...  0.324802\n",
       "...    ...                                                ...       ...\n",
       "9995   pos  A revelation of life in small town America in ...  0.216146\n",
       "9996   pos  Great biography of a very interesting journali...  0.282051\n",
       "9997   neg  Interesting Subject; Poor Presentation: You'd ... -0.019048\n",
       "9998   neg  Don't buy: The box looked used and it is obvio... -0.085227\n",
       "9999   pos  Beautiful Pen and Fast Delivery.: The pen was ...  0.371429\n",
       "\n",
       "[10000 rows x 3 columns]"
      ]
     },
     "execution_count": 21,
     "metadata": {},
     "output_type": "execute_result"
    }
   ],
   "source": [
    "amazon =pd.concat([amazon,pd.Series(polarity_score)], axis=1)\n",
    "amazon"
   ]
  },
  {
   "cell_type": "code",
   "execution_count": 22,
   "id": "fedaeee4",
   "metadata": {},
   "outputs": [],
   "source": [
    "amazon.rename(columns={amazon.columns[2]: \"sentiment_score\"}, inplace=True)"
   ]
  },
  {
   "cell_type": "code",
   "execution_count": 23,
   "id": "14e6d89d",
   "metadata": {},
   "outputs": [
    {
     "data": {
      "text/html": [
       "<div>\n",
       "<style scoped>\n",
       "    .dataframe tbody tr th:only-of-type {\n",
       "        vertical-align: middle;\n",
       "    }\n",
       "\n",
       "    .dataframe tbody tr th {\n",
       "        vertical-align: top;\n",
       "    }\n",
       "\n",
       "    .dataframe thead th {\n",
       "        text-align: right;\n",
       "    }\n",
       "</style>\n",
       "<table border=\"1\" class=\"dataframe\">\n",
       "  <thead>\n",
       "    <tr style=\"text-align: right;\">\n",
       "      <th></th>\n",
       "      <th>label</th>\n",
       "      <th>review</th>\n",
       "      <th>sentiment_score</th>\n",
       "    </tr>\n",
       "  </thead>\n",
       "  <tbody>\n",
       "    <tr>\n",
       "      <th>0</th>\n",
       "      <td>pos</td>\n",
       "      <td>Stuning even for the non-gamer: This sound tra...</td>\n",
       "      <td>-0.021875</td>\n",
       "    </tr>\n",
       "    <tr>\n",
       "      <th>1</th>\n",
       "      <td>pos</td>\n",
       "      <td>The best soundtrack ever to anything.: I'm rea...</td>\n",
       "      <td>0.261111</td>\n",
       "    </tr>\n",
       "    <tr>\n",
       "      <th>2</th>\n",
       "      <td>pos</td>\n",
       "      <td>Amazing!: This soundtrack is my favorite music...</td>\n",
       "      <td>0.274691</td>\n",
       "    </tr>\n",
       "    <tr>\n",
       "      <th>3</th>\n",
       "      <td>pos</td>\n",
       "      <td>Excellent Soundtrack: I truly like this soundt...</td>\n",
       "      <td>0.272727</td>\n",
       "    </tr>\n",
       "    <tr>\n",
       "      <th>4</th>\n",
       "      <td>pos</td>\n",
       "      <td>Remember, Pull Your Jaw Off The Floor After He...</td>\n",
       "      <td>0.324802</td>\n",
       "    </tr>\n",
       "  </tbody>\n",
       "</table>\n",
       "</div>"
      ],
      "text/plain": [
       "  label                                             review  sentiment_score\n",
       "0   pos  Stuning even for the non-gamer: This sound tra...        -0.021875\n",
       "1   pos  The best soundtrack ever to anything.: I'm rea...         0.261111\n",
       "2   pos  Amazing!: This soundtrack is my favorite music...         0.274691\n",
       "3   pos  Excellent Soundtrack: I truly like this soundt...         0.272727\n",
       "4   pos  Remember, Pull Your Jaw Off The Floor After He...         0.324802"
      ]
     },
     "execution_count": 23,
     "metadata": {},
     "output_type": "execute_result"
    }
   ],
   "source": [
    "amazon.head()"
   ]
  },
  {
   "cell_type": "code",
   "execution_count": null,
   "id": "e2610792",
   "metadata": {},
   "outputs": [],
   "source": []
  },
  {
   "cell_type": "code",
   "execution_count": null,
   "id": "3c084cbe",
   "metadata": {},
   "outputs": [],
   "source": []
  }
 ],
 "metadata": {
  "kernelspec": {
   "display_name": "Python 3",
   "language": "python",
   "name": "python3"
  },
  "language_info": {
   "codemirror_mode": {
    "name": "ipython",
    "version": 3
   },
   "file_extension": ".py",
   "mimetype": "text/x-python",
   "name": "python",
   "nbconvert_exporter": "python",
   "pygments_lexer": "ipython3",
   "version": "3.8.8"
  }
 },
 "nbformat": 4,
 "nbformat_minor": 5
}
